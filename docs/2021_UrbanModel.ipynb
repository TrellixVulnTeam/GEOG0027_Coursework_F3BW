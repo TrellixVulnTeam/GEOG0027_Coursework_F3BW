{
 "cells": [
  {
   "cell_type": "markdown",
   "metadata": {
    "toc": true
   },
   "source": [
    "<h1>Table of Contents<span class=\"tocSkip\"></span></h1>\n",
    "<div class=\"toc\"><ul class=\"toc-item\"><li><span><a href=\"#Modelling-Land-Use-change-with-socio-economic-drivers\" data-toc-modified-id=\"Modelling-Land-Use-change-with-socio-economic-drivers-1\">Modelling Land Use change with socio-economic drivers</a></span></li><li><span><a href=\"#Software\" data-toc-modified-id=\"Software-2\">Software</a></span></li><li><span><a href=\"#Download-data-files\" data-toc-modified-id=\"Download-data-files-3\">Download data files</a></span></li><li><span><a href=\"#Using-Rstudio\" data-toc-modified-id=\"Using-Rstudio-4\">Using <code>Rstudio</code></a></span></li><li><span><a href=\"#Using-R\" data-toc-modified-id=\"Using-R-5\">Using <code>R</code></a></span></li><li><span><a href=\"#Modelling-in-R\" data-toc-modified-id=\"Modelling-in-R-6\">Modelling in R</a></span></li><li><span><a href=\"#Experimentation\" data-toc-modified-id=\"Experimentation-7\">Experimentation</a></span></li></ul></div>"
   ]
  },
  {
   "cell_type": "markdown",
   "metadata": {},
   "source": [
    "![](images/class_movie4.gif)\n",
    "\n",
    "## Modelling Land Use change with socio-economic drivers\n",
    "\n",
    "Having derived a dataset of urban land use, we can calculate urban land use change per year.\n",
    "\n",
    "Following the general approach of [Seto & Kaufmann (2003)](reading/SetoandKaufmann2003.pdf), we will build a multi-linear model to attempt to describe the urban land use change per year (the 'y' variable) as a function of a number of key socioeconomic factors (e.g. capital investment, land productivity, population, wage rates, etc) (the '$x$' variables). \n",
    "\n",
    "We suppose that we have observation ('$y$') data for $N_{years}$ and $N_{params}$ of socioeconomic factors for each of these years.\n",
    "\n",
    "So, we will derive a (multi)*linear* model that we could phrase as:\n",
    "\n",
    "**Equation 1:**\n",
    "\n",
    "$$\n",
    "y = p_0 + p_1 x_1 + p_2 x_2 + + p_3 x_3 + p_4 x_4 + p_5 x_5\n",
    "$$\n",
    "\n",
    "\n",
    "\n",
    "where we supply the following information:\n",
    "\n",
    "* $y$ is a column vector of length $N_{years} - 1$ with urban land use change per year. The minus 1 is because we must calculate land use *change* from one year to the next.\n",
    "* $p_n$ are the model parameters, or 'weightings' with $0 \\le n \\lt N_{params}$, with one parameter per socioeconomic factor, plus an 'offset' ($p_0$) that doesn't depend on these factors.\n",
    "* $x_n$ are the socioeconomic data per year, with $0 \\lt n \\lt N_{params}$ for  $N_{years} - 1$ years (one entry for each year, for each socioeconomic factor). The minus 1 associated with $N_{params}$ is because we have an additional parameter, $p_0$.\n",
    "\n",
    "So there are a total of $N_{params}$ *unknown* values (the model parameters $p_n$) that we need to estimat to calibrate' the model.\n",
    "\n",
    "Following the example in the paper, we will use the following in $x$:\n",
    "\n",
    "* $x_1$: Investment in capital construction / population\n",
    "* $x_2$: value of gross agricultural output / agriculture population\n",
    "* $x_3$: log(wages in non-state, non-collective units)\n",
    "* $x_4$: log(average total wage)\n",
    "* $x_5$: (value of gross agricultural output/Agricultural land) / (value of gross industrial output / Urban land)\n",
    "\n",
    "This will give a model with 6 parameters that we need to estimate (i.e. 6 unknowns) that we could call $p_0, p_1, p_2, p_3, p_4, p_5$. \n",
    "\n",
    "Note that the final term ($x_5$) requires that we have data for Agricultural and Urban land, which we will need to derive from the remote sensing data for each year of observation.\n",
    "\n",
    "The rest of the data will come from official statistics. An example for the years 1987 to 2000 is given below to give you a feel for the sort of information you will be using:\n",
    "\n",
    "There are many freely available online database for downloading important socio-economic data. Some examples are the Center for International Earth Science Information Network (CIESIN) at Columbia University and the World Bank. The data we will be using here are from the [Guangdong Statistical Yearbook](http://www.gdstats.gov.cn/tjnj/2006/ml_e.htm).\n",
    "\n",
    "![](images/page.png)\n",
    "\n",
    "A file with relevant data has been compiled and can be downloaded [here](http://www2.geog.ucl.ac.uk/~plewis/GEOG0027/Guangdong-Yearbook-2019.csv).\n",
    "\n",
    "An example set of classification results are available in the file [`results-2019.csv`](http://www2.geog.ucl.ac.uk/~plewis/GEOG0027/results-2019.csv) that you can also download.\n",
    "\n",
    "Note that the classification results in the file you can download are the lecturers' results and **must not** be used in student analyses (i.e. you must put in your own classification results).\n",
    "\n",
    "You will only be able to run the model for years that you have driving (socioeconomic) and Landsat data."
   ]
  },
  {
   "cell_type": "markdown",
   "metadata": {},
   "source": [
    "## Software\n",
    "\n",
    "To be compatible with the statistics you learn in year 1 (in The Geography Department), we will make use of the language `R`. \n",
    "\n",
    "As a reminder to you, the notes from the relevant 1st year practical are available to you on [moodle](https://moodle-1819.ucl.ac.uk/course/view.php?id=2712#section-5)\n",
    "\n",
    "If you are usiung a UCL PC, you may want to use the package `Rstudio` for statistics, but on the UCL Geography (linux) system, we will use `R` at the command line.\n",
    "\n",
    "**If you are using your own computer**, you will probably need to install software for these. \n",
    "\n",
    "In particular, you need:\n",
    "\n",
    "1. Download and install R from [`https://cran.rstudio.com`](https://cran.rstudio.com)\n",
    "2. Download and install RStudio from [`https://www.rstudio.com`](https://www.rstudio.com/products/rstudio/download/#download)\n",
    "\n",
    "\n",
    "Make yourself aware of which computer system you are using, and which choice is appropriate for you."
   ]
  },
  {
   "cell_type": "markdown",
   "metadata": {},
   "source": [
    "## Download data files\n",
    "\n",
    "Download the file [`Guandong_Yearbook_2019.csv`](http://www2.geog.ucl.ac.uk/~plewis/GEOG0027/Guangdong-Yearbook-2019.csv) from [`http://www2.geog.ucl.ac.uk/~plewis/GEOG0027/Guangdong-Yearbook-2019.csv`](http://www2.geog.ucl.ac.uk/~plewis/GEOG0027/Guangdong-Yearbook-2019.csv) and **save it in the area where you are doing your work.** \n",
    "\n",
    "**Remember the location where you are doing your work! (note it down).**\n",
    "\n",
    "You must also copy in a file of your classification results to the local directory. This might typically be called `results-2019.csv` or a similar name. You will have generated it when performing the classification part of the practical.\n",
    "\n",
    "It should be a `csv` format file, and should contain *at least* columns labelled `year` and `urban_land`:\n"
   ]
  },
  {
   "cell_type": "code",
   "execution_count": 6,
   "metadata": {},
   "outputs": [
    {
     "name": "stdout",
     "output_type": "stream",
     "text": [
      "index,year,urban_land\r\n",
      "0,1987.0,511000.0\r\n",
      "1,1988.0,520000.0\r\n",
      "2,1989.0,595000.0\r\n",
      "3,1990.0,656244.0\r\n",
      "4,1991.0,725000.0\r\n",
      "5,1992.0,780000.0\r\n",
      "6,1993.0,842833.0\r\n",
      "7,1994.0,938065.0\r\n",
      "8,1995.0,1003711.0\r\n"
     ]
    }
   ],
   "source": [
    "# Your file should look something like this:\n",
    "!head files/results-2019.csv"
   ]
  },
  {
   "cell_type": "markdown",
   "metadata": {},
   "source": [
    "\n",
    "\n",
    "## Using `Rstudio`\n",
    "\n",
    "If you are using `Rstudio`, run the software, and locate your data directory. \n",
    "\n",
    "This must have the files `Guangdong-Yearbook-2019.csv` and `results-2019.csv`\n",
    "\n",
    "![](images/r123.png)\n",
    "\n",
    "You should then set this as the 'working directory'\n",
    "\n",
    "\n",
    "![](images/rset1.png)\n",
    "\n",
    "\n"
   ]
  },
  {
   "cell_type": "markdown",
   "metadata": {},
   "source": [
    "\n",
    "## Using `R`\n",
    "\n",
    "If you are using `R` directly:\n",
    "    \n",
    "    * change directory to where you are doing your work, e.g.:\n",
    "        \n",
    "            cd ~DATA/GEOG0027/gee\n",
    "            \n",
    "you should be able to simply type `R` in the terminal:\n",
    "\n",
    "            R\n",
    "    "
   ]
  },
  {
   "cell_type": "code",
   "execution_count": 11,
   "metadata": {},
   "outputs": [
    {
     "name": "stdout",
     "output_type": "stream",
     "text": [
      "\n",
      "R version 3.5.1 (2018-07-02) -- \"Feather Spray\"\n",
      "Copyright (C) 2018 The R Foundation for Statistical Computing\n",
      "Platform: x86_64-apple-darwin13.4.0 (64-bit)\n",
      "\n",
      "R is free software and comes with ABSOLUTELY NO WARRANTY.\n",
      "You are welcome to redistribute it under certain conditions.\n",
      "Type 'license()' or 'licence()' for distribution details.\n",
      "\n",
      "  Natural language support but running in an English locale\n",
      "\n",
      "R is a collaborative project with many contributors.\n",
      "Type 'contributors()' for more information and\n",
      "'citation()' on how to cite R or R packages in publications.\n",
      "\n",
      "Type 'demo()' for some demos, 'help()' for on-line help, or\n",
      "'help.start()' for an HTML browser interface to help.\n",
      "Type 'q()' to quit R.\n",
      "\n",
      "> \n"
     ]
    }
   ],
   "source": [
    "%%bash\n",
    "R --vanilla"
   ]
  },
  {
   "cell_type": "markdown",
   "metadata": {},
   "source": [
    "## Modelling in R\n",
    "\n",
    "Whether you are using `R` or `Rstudio`, the steps are now the same. In `R`, you type commands at the prompt. In `Rstudio`, you type commands in the `console`.\n",
    "\n"
   ]
  },
  {
   "cell_type": "code",
   "execution_count": 12,
   "metadata": {},
   "outputs": [],
   "source": [
    "## These codes so we can run R code in the notebook ;-)\n",
    "# You don't do this, unless you are running a notebook\n",
    "import rpy2.rinterface\n",
    "%load_ext rpy2.ipython"
   ]
  },
  {
   "cell_type": "markdown",
   "metadata": {},
   "source": [
    "We will develop `R` codes to read and manipulate the data in the cells below. Notice that in the notebook, each cell starts with `%%R` (cell magic). You don't need to type that, just the commands below it."
   ]
  },
  {
   "cell_type": "code",
   "execution_count": 56,
   "metadata": {},
   "outputs": [
    {
     "data": {
      "text/plain": [
       "[1] \"I am in:\"\n",
       "[1] \"/Users/plewis/Data/GEOG0027_Coursework/docs/files\"\n",
       "[1] \"found Guangdong-Yearbook-2019.csv\"\n"
      ]
     },
     "metadata": {},
     "output_type": "display_data"
    }
   ],
   "source": [
    "%%R\n",
    "\n",
    "############################\n",
    "# First, change directory to where\n",
    "# your (csv) files are \n",
    "############################\n",
    "\n",
    "# change working directory to\n",
    "# where our files are\n",
    "#\n",
    "# Be careful with the setwd command\n",
    "# and check where you are first\n",
    "print('I am in:')\n",
    "print(getwd())\n",
    "\n",
    "# test for this file\n",
    "test = \"Guangdong-Yearbook-2019.csv\"\n",
    "\n",
    "# somewhere else it might be\n",
    "# if its not here \n",
    "# (put something appropriate!!)\n",
    "sub = 'files'\n",
    "\n",
    "if (test %in% list.files('.','*.csv')){\n",
    "    print(paste('found',test))\n",
    "}else if (test %in% list.files(sub,'*.csv')){\n",
    "    print(paste('found',test,'in',sub))\n",
    "    \n",
    "    setwd(sub)\n",
    "    \n",
    "    print('I have moved to:')\n",
    "    print(getwd())\n",
    "}\n"
   ]
  },
  {
   "cell_type": "code",
   "execution_count": 57,
   "metadata": {},
   "outputs": [
    {
     "data": {
      "text/plain": [
       "[1] \"inserting synthetic agricultural land data\"\n",
       "\u001b[90m# A tibble: 14 x 4\u001b[39m\n",
       "   index  year urban_land agr_land\n",
       "   \u001b[3m\u001b[90m<dbl>\u001b[39m\u001b[23m \u001b[3m\u001b[90m<dbl>\u001b[39m\u001b[23m      \u001b[3m\u001b[90m<dbl>\u001b[39m\u001b[23m    \u001b[3m\u001b[90m<dbl>\u001b[39m\u001b[23m\n",
       "\u001b[90m 1\u001b[39m     0  \u001b[4m1\u001b[24m987     \u001b[4m5\u001b[24m\u001b[4m1\u001b[24m\u001b[4m1\u001b[24m000  3\u001b[4m2\u001b[24m\u001b[4m2\u001b[24m\u001b[4m9\u001b[24m000\n",
       "\u001b[90m 2\u001b[39m     1  \u001b[4m1\u001b[24m988     \u001b[4m5\u001b[24m\u001b[4m2\u001b[24m\u001b[4m0\u001b[24m000  3\u001b[4m2\u001b[24m\u001b[4m2\u001b[24m\u001b[4m0\u001b[24m000\n",
       "\u001b[90m 3\u001b[39m     2  \u001b[4m1\u001b[24m989     \u001b[4m5\u001b[24m\u001b[4m9\u001b[24m\u001b[4m5\u001b[24m000  3\u001b[4m1\u001b[24m\u001b[4m4\u001b[24m\u001b[4m5\u001b[24m000\n",
       "\u001b[90m 4\u001b[39m     3  \u001b[4m1\u001b[24m990     \u001b[4m6\u001b[24m\u001b[4m5\u001b[24m\u001b[4m6\u001b[24m244  3\u001b[4m0\u001b[24m\u001b[4m8\u001b[24m\u001b[4m3\u001b[24m756\n",
       "\u001b[90m 5\u001b[39m     4  \u001b[4m1\u001b[24m991     \u001b[4m7\u001b[24m\u001b[4m2\u001b[24m\u001b[4m5\u001b[24m000  3\u001b[4m0\u001b[24m\u001b[4m1\u001b[24m\u001b[4m5\u001b[24m000\n",
       "\u001b[90m 6\u001b[39m     5  \u001b[4m1\u001b[24m992     \u001b[4m7\u001b[24m\u001b[4m8\u001b[24m\u001b[4m0\u001b[24m000  2\u001b[4m9\u001b[24m\u001b[4m6\u001b[24m\u001b[4m0\u001b[24m000\n",
       "\u001b[90m 7\u001b[39m     6  \u001b[4m1\u001b[24m993     \u001b[4m8\u001b[24m\u001b[4m4\u001b[24m\u001b[4m2\u001b[24m833  2\u001b[4m8\u001b[24m\u001b[4m9\u001b[24m\u001b[4m7\u001b[24m167\n",
       "\u001b[90m 8\u001b[39m     7  \u001b[4m1\u001b[24m994     \u001b[4m9\u001b[24m\u001b[4m3\u001b[24m\u001b[4m8\u001b[24m065  2\u001b[4m8\u001b[24m\u001b[4m0\u001b[24m\u001b[4m1\u001b[24m935\n",
       "\u001b[90m 9\u001b[39m     8  \u001b[4m1\u001b[24m995    1\u001b[4m0\u001b[24m\u001b[4m0\u001b[24m\u001b[4m3\u001b[24m711  2\u001b[4m7\u001b[24m\u001b[4m3\u001b[24m\u001b[4m6\u001b[24m289\n",
       "\u001b[90m10\u001b[39m     9  \u001b[4m1\u001b[24m996    1\u001b[4m1\u001b[24m\u001b[4m2\u001b[24m\u001b[4m2\u001b[24m459  2\u001b[4m6\u001b[24m\u001b[4m1\u001b[24m\u001b[4m7\u001b[24m541\n",
       "\u001b[90m11\u001b[39m    10  \u001b[4m1\u001b[24m997    1\u001b[4m2\u001b[24m\u001b[4m5\u001b[24m\u001b[4m0\u001b[24m000  2\u001b[4m4\u001b[24m\u001b[4m9\u001b[24m\u001b[4m0\u001b[24m000\n",
       "\u001b[90m12\u001b[39m    11  \u001b[4m1\u001b[24m998    1\u001b[4m4\u001b[24m\u001b[4m5\u001b[24m\u001b[4m0\u001b[24m000  2\u001b[4m2\u001b[24m\u001b[4m9\u001b[24m\u001b[4m0\u001b[24m000\n",
       "\u001b[90m13\u001b[39m    12  \u001b[4m1\u001b[24m999    1\u001b[4m6\u001b[24m\u001b[4m5\u001b[24m\u001b[4m0\u001b[24m000  2\u001b[4m0\u001b[24m\u001b[4m9\u001b[24m\u001b[4m0\u001b[24m000\n",
       "\u001b[90m14\u001b[39m    13  \u001b[4m2\u001b[24m000    1\u001b[4m8\u001b[24m\u001b[4m7\u001b[24m\u001b[4m0\u001b[24m000  1\u001b[4m8\u001b[24m\u001b[4m7\u001b[24m\u001b[4m0\u001b[24m000\n",
       "\u001b[90m# A tibble: 14 x 9\u001b[39m\n",
       "   index  year investment population private_wage agr_output indust_output\n",
       "   \u001b[3m\u001b[90m<dbl>\u001b[39m\u001b[23m \u001b[3m\u001b[90m<dbl>\u001b[39m\u001b[23m      \u001b[3m\u001b[90m<dbl>\u001b[39m\u001b[23m      \u001b[3m\u001b[90m<dbl>\u001b[39m\u001b[23m        \u001b[3m\u001b[90m<dbl>\u001b[39m\u001b[23m      \u001b[3m\u001b[90m<dbl>\u001b[39m\u001b[23m         \u001b[3m\u001b[90m<dbl>\u001b[39m\u001b[23m\n",
       "\u001b[90m 1\u001b[39m     0  \u001b[4m1\u001b[24m987       251.      \u001b[4m5\u001b[24m832.         4.12       349.          878.\n",
       "\u001b[90m 2\u001b[39m     1  \u001b[4m1\u001b[24m988       354.      \u001b[4m5\u001b[24m928.         7.93       474.         \u001b[4m1\u001b[24m319.\n",
       "\u001b[90m 3\u001b[39m     2  \u001b[4m1\u001b[24m989       347.      \u001b[4m6\u001b[24m025.        13.3        549.         \u001b[4m1\u001b[24m647.\n",
       "\u001b[90m 4\u001b[39m     3  \u001b[4m1\u001b[24m990       381.      \u001b[4m6\u001b[24m246.        18.3        601.         \u001b[4m1\u001b[24m902.\n",
       "\u001b[90m 5\u001b[39m     4  \u001b[4m1\u001b[24m991       478.      \u001b[4m6\u001b[24m349.        28.2        655.         \u001b[4m2\u001b[24m524.\n",
       "\u001b[90m 6\u001b[39m     5  \u001b[4m1\u001b[24m992       922.      \u001b[4m6\u001b[24m463.        40.3        737.         \u001b[4m3\u001b[24m479.\n",
       "\u001b[90m 7\u001b[39m     6  \u001b[4m1\u001b[24m993      \u001b[4m1\u001b[24m630.      \u001b[4m6\u001b[24m582.        70.6        899.         \u001b[4m5\u001b[24m237.\n",
       "\u001b[90m 8\u001b[39m     7  \u001b[4m1\u001b[24m994      \u001b[4m2\u001b[24m141.      \u001b[4m6\u001b[24m691.       104.        \u001b[4m1\u001b[24m151.         \u001b[4m7\u001b[24m274.\n",
       "\u001b[90m 9\u001b[39m     8  \u001b[4m1\u001b[24m995      \u001b[4m2\u001b[24m327.      \u001b[4m6\u001b[24m789.       151.        \u001b[4m1\u001b[24m445.         \u001b[4m9\u001b[24m721.\n",
       "\u001b[90m10\u001b[39m     9  \u001b[4m1\u001b[24m996      \u001b[4m2\u001b[24m328.      \u001b[4m6\u001b[24m897.       159.        \u001b[4m1\u001b[24m578.        \u001b[4m1\u001b[24m\u001b[4m0\u001b[24m531.\n",
       "\u001b[90m11\u001b[39m    10  \u001b[4m1\u001b[24m997      \u001b[4m2\u001b[24m298.      \u001b[4m7\u001b[24m014.       198.        \u001b[4m1\u001b[24m656.        \u001b[4m1\u001b[24m\u001b[4m2\u001b[24m373.\n",
       "\u001b[90m12\u001b[39m    11  \u001b[4m1\u001b[24m998      \u001b[4m2\u001b[24m668.      \u001b[4m7\u001b[24m116.       264.        \u001b[4m1\u001b[24m705.        \u001b[4m1\u001b[24m\u001b[4m3\u001b[24m799.\n",
       "\u001b[90m13\u001b[39m    12  \u001b[4m1\u001b[24m999      \u001b[4m3\u001b[24m028.      \u001b[4m7\u001b[24m299.       301.        \u001b[4m1\u001b[24m745.        \u001b[4m1\u001b[24m\u001b[4m5\u001b[24m303.\n",
       "\u001b[90m14\u001b[39m    13  \u001b[4m2\u001b[24m000      \u001b[4m3\u001b[24m234.      \u001b[4m7\u001b[24m499.       342.        \u001b[4m1\u001b[24m701.        \u001b[4m1\u001b[24m\u001b[4m6\u001b[24m904.\n",
       "\u001b[90m# … with 2 more variables: agr_pop \u001b[3m\u001b[90m<dbl>\u001b[90m\u001b[23m, avg_wage \u001b[3m\u001b[90m<dbl>\u001b[90m\u001b[23m\u001b[39m\n"
      ]
     },
     "metadata": {},
     "output_type": "display_data"
    }
   ],
   "source": [
    "%%R\n",
    "\n",
    "############################\n",
    "#\n",
    "# Second, load the datasets:\n",
    "#\n",
    "# stats_file: files/Guangdong-Yearbook-2019.csv\n",
    "# result_file: files/results-2019.csv\n",
    "#\n",
    "# N.B. YOU need to supply your own result_file\n",
    "# DO NOT use the one provided here!!\n",
    "#\n",
    "############################\n",
    "\n",
    "\n",
    "# The name of the file with year, urban_land and possibly agr_land\n",
    "result_file <- 'results-2019.csv'\n",
    "# the name of the supplied data file with Guandong stats\n",
    "stats_file  <- \"Guangdong-Yearbook-2019.csv\"\n",
    "\n",
    "\n",
    "# load library\n",
    "library(readr)\n",
    "\n",
    "# read the datasets\n",
    "Guangdong_Yearbook_2019 <- read_csv(stats_file)\n",
    "input                   <- read_csv(result_file)\n",
    "\n",
    "# fix the input dataset in case arg_land doesnt exist\n",
    "if('agr_land' %in% names(input)){\n",
    "    print(paste('using agricultural land data from',results))\n",
    "}else{\n",
    "    # If no ag land variable, insert one\n",
    "    print('inserting synthetic agricultural land data')\n",
    "    input$agr_land = 2 * max(input$urban_land) - input$urban_land\n",
    "}\n",
    "\n",
    "# The years in Guangdong_Yearbook_2019$year and \n",
    "# input$year need to match\n",
    "# so we force this with the match function in R\n",
    "overlap <- match(Guangdong_Yearbook_2019$year,input$year,nomatch=0)\n",
    "input <- input[overlap,]\n",
    "Guangdong_Yearbook_2019 <- Guangdong_Yearbook_2019[overlap,]\n",
    "\n",
    "# print the datasets to visualise and check it looks ok\n",
    "print(input)\n",
    "print(Guangdong_Yearbook_2019)\n"
   ]
  },
  {
   "cell_type": "code",
   "execution_count": 58,
   "metadata": {},
   "outputs": [],
   "source": [
    "%%R\n",
    "\n",
    "############################\n",
    "#\n",
    "# 3rd, \n",
    "# form a data frame with the X datasets\n",
    "# that we want (look at the formula)\n",
    "# Note the use of input$agr_land \n",
    "# and input$urban_land in here\n",
    "#\n",
    "############################\n",
    "\n",
    "\n",
    "X = data.frame(year=Guangdong_Yearbook_2019$year,\n",
    "               x1=Guangdong_Yearbook_2019$investment/Guangdong_Yearbook_2019$population,\n",
    "               x2=Guangdong_Yearbook_2019$agr_output/Guangdong_Yearbook_2019$agr_pop,\n",
    "               x3=log(Guangdong_Yearbook_2019$private_wage),\n",
    "               x4=log(Guangdong_Yearbook_2019$avg_wage),\n",
    "               x5=(Guangdong_Yearbook_2019$agr_output/input$agr_land)/\n",
    "                  (Guangdong_Yearbook_2019$indust_output/input$urban_land))\n"
   ]
  },
  {
   "cell_type": "code",
   "execution_count": 59,
   "metadata": {},
   "outputs": [],
   "source": [
    "%%R\n",
    "############################\n",
    "#\n",
    "# 4th, our model needs the change in urban area\n",
    "# with resect to year, which we might call du_dy\n",
    "#\n",
    "# to get this, we need to calculate du and dy\n",
    "# i.e. the change ('delta') in urban area and year\n",
    "# \n",
    "# We will pack all of these datasets into a dataframe\n",
    "# called model_data\n",
    "#\n",
    "############################\n",
    "\n",
    "# Calculate the delta in year for observation data\n",
    "# This will mostly be 1, but could be more\n",
    "# if you have missing years\n",
    "dy <- diff(input$year,differences = 1) \n",
    "\n",
    "# Calculate the delta in urban land for observation data\n",
    "du <-  diff(input$urban_land,differences = 1)\n",
    "\n",
    "# The rate of change of urban land per year\n",
    "du_dy =  du / dy\n",
    "\n",
    "# reconstruct the observation year\n",
    "# from the cumulative sum of dyear\n",
    "# This should give a 'year' dataset\n",
    "# with one fewer entry\n",
    "obs_year <- data.frame(year=input$year[c(1)] + cumsum(dy))\n",
    "\n",
    "# Now select all columns of X that match obs_year\n",
    "# and call it model_data\n",
    "overlap <- match(input$year,obs_year$year,nomatch=0)\n",
    "model_data <- X[overlap,]\n",
    "\n",
    "# and add in du_dy and dy to dataset\n",
    "model_data$du_dy <- du_dy\n",
    "model_data$dyear <- dy\n",
    "model_data$urban_land <- input$urban_land[overlap]\n",
    "\n",
    "# save this file\n",
    "write.csv(model_data, file = \"model-2019.csv\")"
   ]
  },
  {
   "cell_type": "code",
   "execution_count": 60,
   "metadata": {},
   "outputs": [
    {
     "data": {
      "text/plain": [
       "\n",
       "Call:\n",
       "lm(formula = du_dy ~ x1 + x2 + x3 + x4 + x5, data = model_data)\n",
       "\n",
       "Residuals:\n",
       "   Min     1Q Median     3Q    Max \n",
       "-23328 -18491  -3506   7522  38790 \n",
       "\n",
       "Coefficients:\n",
       "            Estimate Std. Error t value Pr(>|t|)\n",
       "(Intercept)  1346051    2575068   0.523    0.617\n",
       "x1             16800     337936   0.050    0.962\n",
       "x2            802897     710485   1.130    0.296\n",
       "x3             72200     103742   0.696    0.509\n",
       "x4           -213235     367635  -0.580    0.580\n",
       "x5           1761121     993690   1.772    0.120\n",
       "\n",
       "Residual standard error: 27580 on 7 degrees of freedom\n",
       "Multiple R-squared:  0.8961,\tAdjusted R-squared:  0.8218 \n",
       "F-statistic: 12.07 on 5 and 7 DF,  p-value: 0.002475\n",
       "\n"
      ]
     },
     "metadata": {},
     "output_type": "display_data"
    }
   ],
   "source": [
    "%%R\n",
    "############################\n",
    "#\n",
    "# 5th, we do the linear modelling:\n",
    "# multi linear fit of du_dy as function of X\n",
    "# using the function lm and the x and y data\n",
    "# stored in model_data\n",
    "#\n",
    "############################\n",
    "\n",
    "\n",
    "# next time, you could skip all of the \n",
    "# above and just load the model_data ...\n",
    "\n",
    "library(readr)\n",
    "model_data <- read_csv(\"model-2019.csv\")\n",
    "\n",
    "fit <- lm(du_dy ~ x1 + x2 + x3 + x4 + x5, data=model_data)\n",
    "\n",
    "print(summary(fit))"
   ]
  },
  {
   "cell_type": "code",
   "execution_count": 61,
   "metadata": {},
   "outputs": [
    {
     "data": {
      "text/plain": [
       "integer(0)\n"
      ]
     },
     "metadata": {},
     "output_type": "display_data"
    },
    {
     "data": {
      "image/png": "[encoded data removed]"
     },
     "metadata": {},
     "output_type": "display_data"
    }
   ],
   "source": [
    "%%R\n",
    "############################\n",
    "#\n",
    "# 6th, lets predict the du_dy from\n",
    "# the model, and plot the measured and modelled\n",
    "# values\n",
    "#\n",
    "############################\n",
    "\n",
    "# predict from model\n",
    "model_du_dy <- predict(fit, data=model_data)\n",
    "\n",
    "plot(model_data$du_dy,model_du_dy\n",
    "     ,xlab='observed du_dy / pixels',\n",
    "     ,ylab='modelled du_dy / pixels') + abline(0,1,col=\"red\")\n"
   ]
  },
  {
   "cell_type": "code",
   "execution_count": 62,
   "metadata": {},
   "outputs": [
    {
     "data": {
      "image/png": "[encoded data removed]"
     },
     "metadata": {},
     "output_type": "display_data"
    }
   ],
   "source": [
    "%%R\n",
    "\n",
    "############################\n",
    "#\n",
    "# 6th, lets predict the du_dy from\n",
    "# the model, and plot the measured and modelled\n",
    "# values\n",
    "#\n",
    "############################\n",
    "\n",
    "# Now reconstruct urban area from du_dy\n",
    "modelled <- data.frame(year=model_data$year+dy[c(1)],\n",
    "                       y=model_data$urban_land[c(1)] - model_du_dy[c(1)] + cumsum(model_du_dy))\n",
    "measured <- data.frame(year=model_data$year,\n",
    "                       y=model_data$urban_land)\n",
    "\n",
    "# and plot the urban area measured and modelled\n",
    "plot(modelled$year,modelled$y,pch=0\n",
    "     ,xlab='year',\n",
    "     ,ylab='urban land / pixels') \n",
    "lines(modelled$year,modelled$y,col=\"red\")\n",
    "points(measured$year,measured$y,pch=1) \n",
    "lines(measured$year,measured$y,,col=\"black\")\n",
    "legend(1988, 1800000, legend=c(\"modelled\",\"measured\"),\n",
    "       col=c(\"red\", \"black\"), lty=1:2)\n"
   ]
  },
  {
   "cell_type": "markdown",
   "metadata": {},
   "source": [
    "## Experimentation\n",
    "\n",
    "The codes above allow you to fit the multi-linear model to the 'observed' values of change in urban area. These observations come from monitoring urban area using satellite (Landsat) data, then claculating the change per year (`du_dy`). \n",
    "\n",
    "There are a few new functions, but most of the functions (including `lm`) should be familiar to you from the stats you did in the 1st year.\n",
    "\n",
    "You should first familiarise yourself with the code blocks, and make sure the code works properly on the dataset you have generated.\n",
    "\n",
    "The *main* result here is, in many ways, simply the plots and the statistics generated by `print(summary(fit))` above. But rather than just 'running' this and pasting the results into your report, you will need to demonstrate that you understand what is going on."
   ]
  },
  {
   "cell_type": "code",
   "execution_count": null,
   "metadata": {},
   "outputs": [],
   "source": []
  }
 ],
 "metadata": {
  "kernelspec": {
   "display_name": "Python 3",
   "language": "python",
   "name": "python3"
  },
  "language_info": {
   "codemirror_mode": {
    "name": "ipython",
    "version": 3
   },
   "file_extension": ".py",
   "mimetype": "text/x-python",
   "name": "python",
   "nbconvert_exporter": "python",
   "pygments_lexer": "ipython3",
   "version": "3.6.6"
  },
  "toc": {
   "base_numbering": 1,
   "nav_menu": {},
   "number_sections": false,
   "sideBar": false,
   "skip_h1_title": false,
   "title_cell": "Table of Contents",
   "title_sidebar": "Contents",
   "toc_cell": true,
   "toc_position": {},
   "toc_section_display": false,
   "toc_window_display": false
  }
 },
 "nbformat": 4,
 "nbformat_minor": 2
}

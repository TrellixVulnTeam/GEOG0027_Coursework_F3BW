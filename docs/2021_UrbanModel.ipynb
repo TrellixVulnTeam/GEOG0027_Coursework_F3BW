{
 "cells": [
  {
   "cell_type": "markdown",
   "metadata": {},
   "source": [
    "![](images/ucl_logo.png)"
   ]
  },
  {
   "cell_type": "markdown",
   "metadata": {},
   "source": [
    "[[Next](WriteUp.ipynb#5.0-Project-Write-up)] [[Home](CW-1-Pearl-River-Intro.ipynb#Geog-2021-Coursework)] [[Prev](Download.ipynb#3.-Download-data)]"
   ]
  },
  {
   "cell_type": "markdown",
   "metadata": {},
   "source": [
    "# 4.0 Urban Model"
   ]
  },
  {
   "cell_type": "markdown",
   "metadata": {},
   "source": [
    "##4.1 Introduction\n",
    "\n",
    "In this section, you will learn how to apply the land use change model(s) using one of two methods.\n",
    "\n",
    "##4.2 The Models\n",
    "\n",
    "Equations from Seto et al. have already been presented to you:\n",
    "\n",
    "![](images/natural2urban.png)\n",
    "\n",
    "![](images/ag2urban.png)\n",
    "\n",
    "There are two parts in the original growth model, the first being modeling the urban land transformed from natural vegetation (“Nat-Urban model” hereafter), and the second being urban land transformed from agricultural land (“Agr-Urban model” hereafter). \n",
    "\n",
    "Ideally, you should calibrate and test both of these models. \n",
    "\n",
    "It is acceptable however to simplify this process, and calculate only thesufficient total amount of urban area gained in each time period, and a combined model: \n",
    "\n",
    "![](images/comp.png)\n",
    "\n",
    "In these models, we assume that changes are driven by five factors: per capita investment, per capita agricultural output, wages in private sectors, average wages, and per unit productivity of land. The per unit productivity of land, \n",
    "\n",
    "![](images/eq.png)\n",
    "\n",
    "takes into account the agricultural and urban land area from the previous time step.  This model assumes the amount of land changed into urban built area is a linear combination of these five factors, and we have collected or calculated data for these factors by now. What we don’t know yet is how much each factor contributes in the model, or, in another word, the coefficient of each factor (i.e. α, β1, β2, β3, β4 and β5). In order to build this model for the use of future prediction, we need to figure out the best value of the coefficients. This is essentially a model “inversion” problem. We can call these 'factors' parameters, in that they are the parameters (at present unknown) of a multi-linear model."
   ]
  },
  {
   "cell_type": "markdown",
   "metadata": {},
   "source": [
    "##4.3 Gathering socio-economic data"
   ]
  },
  {
   "cell_type": "markdown",
   "metadata": {},
   "source": [
    "There are many freely available online database for downloading important socio-economic data. Some examples are the Center for International Earth Science Information Network (CIESIN) at Columbia University and the World Bank. The data we will be using here are from the [Guangdong Statistical Yearbook](http://www.gdstats.gov.cn/tjnj/2006/ml_e.htm).\n",
    "\n",
    "![](images/page.png)\n",
    "\n",
    "A spreadsheet with relevant data has been compiled and can be downloaded [here](https://github.com/profLewis/Geog2021_Coursework/blob/master/files/UrbanGrowthModel_Students.xlsx)\n",
    "\n",
    "Note that the classification results in the spreadsheet are the lecturers' results and **must not** be used in student analyses (i.e. you must put in your own classification results).\n",
    "\n",
    "Note that data in the spreadsheet / files is only for a limited time period (1987 to 2000). You will only be able to run the model for years that you have these driving data.\n"
   ]
  },
  {
   "cell_type": "markdown",
   "metadata": {},
   "source": [
    "## 4.4 Applying the models"
   ]
  },
  {
   "cell_type": "markdown",
   "metadata": {},
   "source": [
    "Since the data are presented in a spreadsheet, you *should* be able to use your existing (spreadsheet) skills to apply this multi-linear model. It is sufficient for you to do that (along with some form of accuracy assessment). As an alternative, we provide some codes below that might make the modelling easier."
   ]
  },
  {
   "cell_type": "code",
   "execution_count": 79,
   "metadata": {
    "collapsed": false
   },
   "outputs": [],
   "source": [
    "# read LUC data  & socio data\n",
    "book = 'https://github.com/profLewis/Geog2021_Coursework/blob/master/files/UrbanGrowthModel_Students.xlsx'"
   ]
  },
  {
   "cell_type": "code",
   "execution_count": 80,
   "metadata": {
    "collapsed": false
   },
   "outputs": [],
   "source": [
    "import xlrd\n",
    "import numpy as np\n",
    "\n",
    "# This part reads the data from the excel file\n",
    "# given above as 'book'\n",
    "\n",
    "\n",
    "# utility\n",
    "def getfloats(sheet,c):\n",
    "    return np.array([i for i in sheet.col_values(c)[1:] \\\n",
    "                     if type(i) == float])\n",
    "# open the excel file\n",
    "bookf = xlrd.open_workbook(book)\n",
    "sheet = bookf.sheet_by_index(0) # Get the first sheet\n",
    "# get the column headings\n",
    "headings = sheet.row_values(0,end_colx=13)\n",
    "# read the years from 1st col\n",
    "year = getfloats(sheet,0)\n",
    "# read each heading\n",
    "data = {}\n",
    "n = len(year)\n",
    "for i,h in enumerate(headings):\n",
    "    data[h] = getfloats(sheet,i)[:n]\n",
    "    "
   ]
  },
  {
   "cell_type": "code",
   "execution_count": 83,
   "metadata": {
    "collapsed": false
   },
   "outputs": [
    {
     "name": "stdout",
     "output_type": "stream",
     "text": [
      "\n",
      "Agricultural land (km2)\n",
      "Urban land (km2)\n",
      "Growth (Meansured in km2)\n",
      "Investment in capital construction (100 million yuan)\n",
      "population (10000)\n",
      "wages in non-state, non-collective units (100 million yuan)\n",
      "value of gross agricultural output (100 million yuan)\n",
      "value of gross inductrial output (100 million yuan)\n",
      "agriculture population (100 million yuan)\n",
      "average total wage (yuan)\n",
      "productivity ratio\n",
      "Growth (Prediction in km2)\n"
     ]
    }
   ],
   "source": [
    "# lets see what we have\n",
    "for h in headings:\n",
    "    print h\n",
    "\n",
    "# simplify and load variables\n",
    "# shorten to length n-1 because need growth\n",
    "# ie difference\n",
    "investment = data[headings[3]][:n-1]\n",
    "population = data[headings[4]][:n-1]\n",
    "private_wage = data[headings[5]][:n-1]\n",
    "agr_output = data[headings[6]][:n-1]\n",
    "indust_output = data[headings[7]][:n-1]\n",
    "agr_pop = data[headings[8]][:n-1]\n",
    "avg_wage = data[headings[9]][:n-1]"
   ]
  },
  {
   "cell_type": "code",
   "execution_count": 94,
   "metadata": {
    "collapsed": false
   },
   "outputs": [
    {
     "name": "stdout",
     "output_type": "stream",
     "text": [
      "[   8.1      67.5      55.1196   61.8804   49.5      56.5497   85.7088\n",
      "   59.0814  106.8732  114.7869  180.      180.      198.    ]\n",
      "[  459.9      468.       535.5      590.6196   652.5      702.       758.5497\n",
      "   844.2585   903.3399  1010.2131  1125.      1305.      1485.    ]\n"
     ]
    }
   ],
   "source": [
    "%matplotlib inline\n",
    "\n",
    "import statsmodels.api as sm\n",
    "import matplotlib.pyplot as plt\n",
    "\n",
    "agr_land = data['Agricultural land (km2)']\n",
    "urban_land = data['Urban land (km2)']\n",
    "\n",
    "growth = urban_land[1:]-urban_land[:-1]\n",
    "\n",
    "urban_land = urban_land[:n-1]\n",
    "agr_land   = agr_land[:n-1]\n",
    "\n",
    "data_matrix = np.transpose(np.array([\\\n",
    "                investment/population, \\\n",
    "                agr_output/agr_pop, \\\n",
    "                np.log(private_wage), \\\n",
    "                np.log(avg_wage), \\\n",
    "                (agr_output/agr_land)/(indust_output/urban_land)\\\n",
    "                ]))\n",
    "print growth\n",
    "print urban_land"
   ]
  },
  {
   "cell_type": "code",
   "execution_count": 98,
   "metadata": {
    "collapsed": false
   },
   "outputs": [
    {
     "name": "stdout",
     "output_type": "stream",
     "text": [
      "parameters for multilinear-regression 304.083443512 7399.64520929 -0.24287028644 -5.16660036642 81.3440333878 \n",
      "\n",
      "year [ 1987.  1988.  1989.  1990.  1991.  1992.  1993.  1994.  1995.  1996.\n",
      "  1997.  1998.  1999.  2000.]\n",
      "\n",
      "\n",
      "data [   8.1      67.5      55.1196   61.8804   49.5      56.5497   85.7088\n",
      "   59.0814  106.8732  114.7869  180.      180.      198.    ]\n",
      "\n",
      "\n",
      "model [  -0.31233603   58.05614192   64.12996689   77.49507788   49.18273195\n",
      "   65.66979904   82.87699534   89.22136062   98.86577032  108.52839189\n",
      "  136.66253367  181.00124616  211.84179703]\n"
     ]
    },
    {
     "data": {
      "image/png": "[encoded data removed]",
      "text/plain": [
       "<matplotlib.figure.Figure at 0x10b93f6d0>"
      ]
     },
     "metadata": {},
     "output_type": "display_data"
    }
   ],
   "source": [
    "# regress growth as function of terms in\n",
    "# data matrix\n",
    "pp = np.linalg.lstsq(data_matrix, growth)\n",
    "print 'parameters for multilinear-regression',\n",
    "for i in pp[0]:\n",
    "    print i,\n",
    "\n",
    "RMSE = np.sqrt(pp[1]/float(len(growth)))\n",
    "\n",
    "plt.figure(figsize=(10,7))\n",
    "plt.title('RMSE = %.2f'%RMSE)\n",
    "fwd = np.sum(pp[0]*data_matrix, axis=1)\n",
    "plt.plot(year[:-1], growth,'ro',label='data')\n",
    "plt.plot(year[:-1], fwd,'k+',label='model')\n",
    "plt.xlabel('year')\n",
    "plt.ylabel('urban growth')\n",
    "plt.legend(loc='best')\n",
    "\n",
    "print '\\n\\nyear',year\n",
    "print '\\n\\ndata',growth\n",
    "print '\\n\\nmodel',fwd\n",
    "\n"
   ]
  },
  {
   "cell_type": "markdown",
   "metadata": {},
   "source": [
    "The material above provides all of the computer code you would need to apply the different models. All you would need to change (if you felt confident enough) would be the terms that are stacked up in `data_matrix` and any different matric of `growth` (e.g. `natural -> urban`). It is not a requirement that you develop any further models, and it is sufficient if you run only the single model above.\n",
    "\n",
    "You **must** put in your own data from the classification result however (and this information must be traceable from your `Results`).\n",
    "\n",
    "You should make some attempt to assess the accuracy of any model that you build. This is perhaps most readily achieved by some form of cross-validation (leave one sample out and test how well it is modelled).\n",
    "\n",
    "You must explain and reference the models that you use (in a `Theory` section of simply a `Models` section) and claerly and traceably present all results (in `Model Results` section/sub-section). You must explain the approach taken for your accuracy assessment and present the results.\n",
    "\n",
    "A discussion of the results (from the classification and modelling) must be in a `Discussion` section of the report. You should make sure to discuss the uncertainty in the classification(s) and the modelling. Comment on what the expected 'reliability' of such a model might be in this context.\n",
    "\n",
    "A sufficient (i.e. pass) mark for the relevant section will be awarded if you correctly (assuming the classification results you have obtained are 'true') complete the model calibration (using the code above or excel or any other tool you are familiar with, provided you show your working), show all relevant results and properly plot the modelling results (as above). You will need to include more than a token effort at uncertainty estimation."
   ]
  },
  {
   "cell_type": "markdown",
   "metadata": {},
   "source": [
    "## 4.5 Further Work"
   ]
  },
  {
   "cell_type": "markdown",
   "metadata": {},
   "source": [
    "Once you have achieved this minimum, there is plenty of scope for additional marks, e.g. \n",
    "\n",
    "* calibrating/testing the alternative models above\n",
    "* extending the driver (socio-economic) dataset (if you can find suitable datasets) so you can run and test the model over a longer time period (this may not be possible -- I haven't fully explored it yet)\n",
    "* Examine 'simpler' models, e.g. try taking out some of the factors in the model(s) above and see how good the results are then. Note that if you use fewer factors, you will have reduced the degrees of freedom of the model, and can then calculate some form of 'information criterion' such as [the AIC](http://en.wikipedia.org/wiki/Akaike_information_criterion)\n",
    "* Trying to incorporate uncertainty in the growth data into the analysis\n",
    "* etc.\n",
    "\n",
    "If you are worried that a particular aspect you are thinking of following as an 'extra' might not be useful, ask the course tutor."
   ]
  },
  {
   "cell_type": "markdown",
   "metadata": {},
   "source": [
    "[[Next](WriteUp.ipynb#5.0-Project-Write-up)] [[Home](CW-1-Pearl-River-Intro.ipynb#Geog-2021-Coursework)] [[Top](#4.0-Urban-Model)] [[Prev](Download.ipynb#3.-Download-data)]"
   ]
  }
 ],
 "metadata": {
  "kernelspec": {
   "display_name": "Python 2",
   "language": "python",
   "name": "python2"
  },
  "language_info": {
   "codemirror_mode": {
    "name": "ipython",
    "version": 2
   },
   "file_extension": ".py",
   "mimetype": "text/x-python",
   "name": "python",
   "nbconvert_exporter": "python",
   "pygments_lexer": "ipython2",
   "version": "2.7.10"
  }
 },
 "nbformat": 4,
 "nbformat_minor": 0
}

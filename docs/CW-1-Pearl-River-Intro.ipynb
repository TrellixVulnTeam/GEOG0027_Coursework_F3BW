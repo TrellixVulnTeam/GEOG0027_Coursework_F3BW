{
 "cells": [
  {
   "cell_type": "markdown",
   "metadata": {},
   "source": [
    "![](images/ucl_logo.png)"
   ]
  },
  {
   "cell_type": "markdown",
   "metadata": {},
   "source": [
    "# Geog 2021 Coursework"
   ]
  },
  {
   "cell_type": "markdown",
   "metadata": {},
   "source": [
    "Prepared by:\n",
    "\n",
    "[Dr Qingling Wu](http://www.geog.ucl.ac.uk/about-the-department/people/academic-staff/qingling-wu), [Prof Philip Lewis](http://www2.geog.ucl.ac.uk/~plewis/), [Dr Mathias Disney](http://www.geog.ucl.ac.uk/about-the-department/people/academic-staff/mat-disney)\n",
    "\n",
    "Contact: [Prof Lewis](<mailto: p.lewis@ucl.ac.uk>)\n",
    "\n",
    "------------------------------------\n",
    "\n",
    "[[Next](CW-1-PearlRiver-Class.ipynb)] [[Top](#Geog-2021-Coursework)] [[Home](CW-1-Pearl-River-Intro.ipynb#Geog-2021-Coursework)] "
   ]
  },
  {
   "cell_type": "markdown",
   "metadata": {},
   "source": [
    "# 1.0 Introduction"
   ]
  },
  {
   "cell_type": "markdown",
   "metadata": {},
   "source": [
    "The Pearl River Delta, and particularly Shenzhen City, in Southern China has been going through a dramatic urbanization process since 1978 due to decentralization policies and market-oriented reforms. \n",
    "\n",
    "![encounteringurbanization.files.wordpress.com: Shenzhen 1970](https://encounteringurbanization.files.wordpress.com/2011/06/picture3.png)\n",
    "[**Shenzhen City 1970**](https://encounteringurbanization.wordpress.com/2011/06/22/shenzhen-the-instant-city/)\n",
    "\n",
    "![encounteringurbanization.files.wordpress.com: Shenzhen 2011](https://encounteringurbanization.files.wordpress.com/2011/06/picture1.png)\n",
    "[**Shenzhen City 2011**](https://encounteringurbanization.wordpress.com/2011/06/22/shenzhen-the-instant-city/)"
   ]
  },
  {
   "cell_type": "code",
   "execution_count": 1,
   "metadata": {
    "collapsed": false
   },
   "outputs": [
    {
     "data": {
      "text/html": [
       "<iframe src=html/pearl.html width=100% height=490></iframe>"
      ],
      "text/plain": [
       "<IPython.core.display.HTML at 0x10679d950>"
      ]
     },
     "execution_count": 1,
     "metadata": {},
     "output_type": "execute_result"
    }
   ],
   "source": [
    "%matplotlib inline\n",
    "from IPython.display import HTML\n",
    "HTML('<iframe src=html/pearl.html width=100% height=490></iframe>')"
   ]
  },
  {
   "cell_type": "code",
   "execution_count": 2,
   "metadata": {
    "collapsed": false
   },
   "outputs": [
    {
     "data": {
      "text/html": [
       "<iframe src=\"html/pearl2.html\" height=400 width=100%% frameborder=\"0\"></iframe>"
      ],
      "text/plain": [
       "<IPython.core.display.HTML at 0x10679d550>"
      ]
     },
     "execution_count": 2,
     "metadata": {},
     "output_type": "execute_result"
    }
   ],
   "source": [
    "HTML('<iframe src=\"html/pearl2.html\" height=400 width=100%% frameborder=\"0\"></iframe>')"
   ]
  },
  {
   "cell_type": "markdown",
   "metadata": {},
   "source": [
    "\n",
    "![encounteringurbanization.files.wordpress.com: Shenzhen 2011](https://encounteringurbanization.files.wordpress.com/2011/06/picture7.png\n",
    ")\n",
    "[**Shenzhen Plan of 2005**](https://encounteringurbanization.wordpress.com/2011/06/22/shenzhen-the-instant-city/)\n",
    "\n"
   ]
  },
  {
   "cell_type": "markdown",
   "metadata": {},
   "source": [
    "# 1.1 Purpose of the practical"
   ]
  },
  {
   "cell_type": "markdown",
   "metadata": {},
   "source": [
    "In this project, we aim to quantify the change of land use due to urbanization, and attempt to explain such change by a number of important socioeconomical drivers. Nigh yearly Landsat TM images are given from 1988 to 1997. "
   ]
  },
  {
   "cell_type": "markdown",
   "metadata": {},
   "source": [
    "# 1.2 Overview of task"
   ]
  },
  {
   "cell_type": "markdown",
   "metadata": {},
   "source": [
    "The project is most clearly phrased in two parts:\n",
    "    \n",
    "**1. Classification of land cover from a series of Landsat images**\n",
    "\n",
    " As a first step, we need to quantify at least three types (urban, agricultural, and natural) of land uses for each given year, over several years of data. \n",
    " \n",
    "A number of classification methods have been taught in this module, and Maximum Likelihood is a good starting point for multispectral TM imagery. There are also other image processing methods could help to identify land use classes (e.g. vegetation indices, filters, segmentation, etc.). Then, we can identify where changes have happened and how much land area has been transformed into urban built.  See example land use change map below from [Seto et al. 2002](reading/Seto et al 2002.pdf).\n",
    " \n",
    "![](images/seto.png)\n",
    "\n",
    "\n",
    "**2. Modelling Land Use change with socio-economic drivers**\n",
    "\n",
    "Secondly, we can establish an empirical model to link the changes in land use to a number of key socioeconomical factors (e.g. capital investment, land productivity, population, wage rates, etc). A simplified model is adopted from [Seto & Kaufmann (2003)](reading/'Seto & Kaufmann 2003.pdf'). This second part of the project involves running this model and calibrating it with the derived land use data. Two equations are given here, one for modelling the percentage of natural vegetation land converted into urban area, and the other for the percentage of agricultural land converted into urban area:\n",
    "\n",
    "![](images/natural2urban.png)\n",
    "\n",
    "![](images/ag2urban.png)\n",
    "\n"
   ]
  },
  {
   "cell_type": "markdown",
   "metadata": {},
   "source": [
    "# 1.3 Details"
   ]
  },
  {
   "cell_type": "markdown",
   "metadata": {},
   "source": [
    "* [Classification](CW-1-PearlRiver-Class.ipynb)\n",
    "* [Modelling](2021_UrbanModel.ipynb)\n",
    "* [Write Up](WriteUp.ipynb)\n",
    "\n"
   ]
  },
  {
   "cell_type": "markdown",
   "metadata": {},
   "source": [
    "# 1.4 Further Reading"
   ]
  },
  {
   "cell_type": "markdown",
   "metadata": {},
   "source": [
    "[Hao, P. (2012) Spatial evolution of urban villages in Shenzhen. PhD thesis University of Twente; Summaries in Dutch and English. ITC Dissertation 205, ISBN: 978-90-6266-295-1.](http://www.itc.nl/Pub/Events-Conferences/2012/april2012/PhD-Defence-Mr-Pu-Hao.html)\n",
    "\n",
    "[Seto, K.C., Woodcock, C.E., Song, C., Huand, X., Lu, J., and Kaufmann, R.K. (2002) Monitoring land-use change in the Pearl River Delta using Landsat TM, Int J. Rem. Sens, 23(10), 1985-2004.](reading/Setoetal2002.pdf)\n",
    "\n",
    "[Seto, K.C., and Kaufmann, R.K., (2003) Modeling the Drivers of Urban Land Use Change in the Pearl River Delta, China: Integrating Remote Sensing with Socioeconomic Data, Land Economics, 79(1): 106-121](reading/Seto & Kaufmann 2003.pdf)"
   ]
  },
  {
   "cell_type": "markdown",
   "metadata": {},
   "source": [
    "[[Next](CW-1-PearlRiver-Class.ipynb)] [[Top](#Geog-2021-Coursework)] [[Home](CW-1-Pearl-River-Intro.ipynb#Geog-2021-Coursework)] "
   ]
  }
 ],
 "metadata": {
  "kernelspec": {
   "display_name": "Python 2",
   "language": "python",
   "name": "python2"
  },
  "language_info": {
   "codemirror_mode": {
    "name": "ipython",
    "version": 2
   },
   "file_extension": ".py",
   "mimetype": "text/x-python",
   "name": "python",
   "nbconvert_exporter": "python",
   "pygments_lexer": "ipython2",
   "version": "2.7.10"
  }
 },
 "nbformat": 4,
 "nbformat_minor": 0
}

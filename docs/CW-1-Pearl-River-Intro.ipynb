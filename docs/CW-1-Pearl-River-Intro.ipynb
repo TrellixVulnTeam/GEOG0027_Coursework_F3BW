{
 "cells": [
  {
   "cell_type": "markdown",
   "metadata": {},
   "source": [
    "![](images/ucl_logo.png)"
   ]
  },
  {
   "cell_type": "markdown",
   "metadata": {},
   "source": [
    "# Geog0027 Coursework"
   ]
  },
  {
   "cell_type": "markdown",
   "metadata": {},
   "source": [
    "Prepared by:\n",
    "\n",
    "[Dr Qingling Wu](http://www.geog.ucl.ac.uk/about-the-department/people/academic-staff/qingling-wu), [Prof Philip Lewis](http://www2.geog.ucl.ac.uk/~plewis/), [Dr Mathias Disney](http://www.geog.ucl.ac.uk/about-the-department/people/academic-staff/mat-disney)\n",
    "\n",
    "Contact: [Prof Lewis](<mailto: p.lewis@ucl.ac.uk>)\n",
    "\n",
    "------------------------------------"
   ]
  },
  {
   "cell_type": "markdown",
   "metadata": {},
   "source": [
    "## Introduction"
   ]
  },
  {
   "cell_type": "markdown",
   "metadata": {},
   "source": [
    "The Pearl River Delta, and particularly Shenzhen City, in Southern China has been going through a dramatic urbanization process since 1978 due to decentralization policies and market-oriented reforms. \n",
    "\n",
    "![encounteringurbanization.files.wordpress.com: Shenzhen 1970](https://encounteringurbanization.files.wordpress.com/2011/06/picture3.png)\n",
    "[**Shenzhen City 1970**](https://encounteringurbanization.wordpress.com/2011/06/22/shenzhen-the-instant-city/)\n",
    "\n",
    "![encounteringurbanization.files.wordpress.com: Shenzhen 2011](https://encounteringurbanization.files.wordpress.com/2011/06/picture1.png)\n",
    "[**Shenzhen City 2011**](https://encounteringurbanization.wordpress.com/2011/06/22/shenzhen-the-instant-city/)"
   ]
  },
  {
   "cell_type": "code",
   "execution_count": 6,
   "metadata": {},
   "outputs": [
    {
     "data": {
      "text/html": [
       "\n",
       "        <iframe\n",
       "            width=\"100%\"\n",
       "            height=\"490\"\n",
       "            src=\"http://svs.gsfc.nasa.gov/stories/Landsat/pearl_river.html\"\n",
       "            frameborder=\"0\"\n",
       "            allowfullscreen\n",
       "        ></iframe>\n",
       "        "
      ],
      "text/plain": [
       "<IPython.lib.display.IFrame at 0x10910a2b0>"
      ]
     },
     "execution_count": 6,
     "metadata": {},
     "output_type": "execute_result"
    }
   ],
   "source": [
    "%matplotlib inline\n",
    "from IPython.display import IFrame\n",
    "IFrame('http://svs.gsfc.nasa.gov/stories/Landsat/pearl_river.html','100%',490)"
   ]
  },
  {
   "cell_type": "code",
   "execution_count": 7,
   "metadata": {},
   "outputs": [
    {
     "data": {
      "text/html": [
       "\n",
       "        <iframe\n",
       "            width=\"100%\"\n",
       "            height=\"490\"\n",
       "            src=\"https://earthengine.google.org/timelapse/player?c=https%3A%2F%2Fearthengine.google.org%2Ftimelapse%2Fdata&v=22.5500,114.1000,8.5&r=.5&p=true\"\"\n",
       "            frameborder=\"0\"\n",
       "            allowfullscreen\n",
       "        ></iframe>\n",
       "        "
      ],
      "text/plain": [
       "<IPython.lib.display.IFrame at 0x10910a4e0>"
      ]
     },
     "execution_count": 7,
     "metadata": {},
     "output_type": "execute_result"
    }
   ],
   "source": [
    "IFrame('https://earthengine.google.org/timelapse/player?c=https%3A%2F%2Fearthengine.google.org%2Ftimelapse%2Fdata&v=22.5500,114.1000,8.5&r=.5&p=true\"','100%',490)"
   ]
  },
  {
   "cell_type": "markdown",
   "metadata": {},
   "source": [
    "\n",
    "![encounteringurbanization.files.wordpress.com: Shenzhen 2011](https://encounteringurbanization.files.wordpress.com/2011/06/picture7.png\n",
    ")\n",
    "[**Shenzhen Plan of 2005**](https://encounteringurbanization.wordpress.com/2011/06/22/shenzhen-the-instant-city/)\n",
    "\n"
   ]
  },
  {
   "cell_type": "markdown",
   "metadata": {},
   "source": [
    "## Purpose of the practical"
   ]
  },
  {
   "cell_type": "markdown",
   "metadata": {},
   "source": [
    "In this project, we aim to quantify the change of land use due to urbanization, and attempt to explain such change by a number of important socioeconomical drivers. Yearly Landsat TM images are given from 1986 to present. "
   ]
  },
  {
   "cell_type": "markdown",
   "metadata": {},
   "source": [
    "## Overview of task"
   ]
  },
  {
   "cell_type": "markdown",
   "metadata": {},
   "source": [
    "The project is most clearly phrased in two parts:\n",
    "    \n",
    "**1. Classification of land cover from a series of Landsat images**\n",
    "\n",
    "As a first step, we need to quantify at least *three* types of land use for each given year, namely, **urban**, **cropland**, and **other**. In many circumstances, we would want to have cartegories of other as well, but this is not strictly necessary for this practical. Then, we can identify where changes have happened and how much land area has been transformed into urban. See example the land use change map below from [Seto et al. 2002](reading/Setoetal2002.pdf) as anexample of this.\n",
    " \n",
    "![](images/seto.png)\n",
    "\n",
    "We want to be able to classify quite a large number of images, so we need to bear that in mind when considering what approach to take.\n",
    "  \n",
    "A number of classification methods have been taught in this module, and Maximum Likelihood is often a good starting point for multispectral TM imagery. There are also other image processing methods could help to identify land use classes (e.g. vegetation indices, filters, segmentation, etc.). However, if we need to apply training for each scene, the task soon becomes very tedious. We could try to use the same training data for each scene, but this might not work well across multiple sensors.\n",
    "\n",
    "Instead, we shall use a method of unsupervised classification (ISOdata clustering) to process the bulk of the data. This shifts the problem from one of large manual effort in providing the training datasets to a smaller manual effort making sure we interpret the machine-generated clusters appropriately. This is a basic trade-off of unsupervised versus supervised methods. \n",
    "\n",
    "In this work then, you will apply a supervised method and an unsupervised method to *one* scene, then assess the classification accuracy of your approaches. Because of the large number of images involved in the project, we will use an envi program (provided to you) to automate the process of unsupervised classification for the rest of the datasets. \n",
    "\n",
    "After you have performed the classifications, you will process each dataset to estimate the area of urban land cover per year. Again, because of the large number of images involved, we will use an envi program to do this.\n",
    "\n",
    "**2. Modelling Land Use change with socio-economic drivers**\n",
    "\n",
    "Having derived a dataset of urban land use, we can calculate urban land use change per year.\n",
    "\n",
    "Following the general approach of [Seto & Kaufmann (2003)](reading/SetoandKaufmann2003.pdf), we will build a multi-linear model to attempt to describe the urban land use change per year (the 'y' variable) as a function of a number of key socioeconomic factors (e.g. capital investment, land productivity, population, wage rates, etc) (the '$x$' variables). \n",
    "\n",
    "We suppose that we have observation ('$y$') data for $N_{years}$ and $N_{params}$ of socioeconomic factors for each of these years.\n",
    "\n",
    "So, we will derive a (multi)*linear* model that we could phrase as:\n",
    "\n",
    "**Equation 1:**\n",
    "$$\n",
    "y = c +  M x                \n",
    "$$\n",
    "\n",
    "where we supply the following information:\n",
    "\n",
    "* $y$ is a column vector of length $N_{years} - 1$ with urban land use change per year. The minus 1 is because we must calculate land use *change* from one year to the next.\n",
    "* $x$ is an information matrix of size $N_{params} - 1$ by  $N_{years} - 1$ (one entry for each year, for each socioeconomic factor). The minus 1 associated with $N_{params}$ is because we have an additional parameter, $c$.\n",
    "\n",
    "The model parameters above (i.e. the information we need to derive by fitting to the data) are called $M$ and $c$. Here, $M$ would be a row vector of size $N_{params} - 1$ and $c$ is a scalar. So there are a total of $N_{params}$ *unknown* values (the model parameters) that we need to estimate. \n",
    "\n",
    "Following the example in the paper, we will use the following in $x$:\n",
    "\n",
    "* $x_1$: Investment in capital construction / population\n",
    "* $x_2$: value of gross agricultural output / agriculture population\n",
    "* $x_3$: log(wages in non-state, non-collective units)\n",
    "* $x_4$: log(average total wage)\n",
    "* $x_5$: (value of gross agricultural output/Agricultural land) / (value of gross industrial output / Urban land)\n",
    "\n",
    "This will give a model with 6 parameters that we need to estimate (i.e. 6 unknowns) that we could call $p_0, p_1, p_2, p_3, p_4, p_5$. We could then write the general model more specifically as:\n",
    "\n",
    "**Equation 2:**\n",
    "\n",
    "$$\n",
    "y = p_0 + p_1 x_1 + p_2 x_2 + + p_3 x_3 + p_4 x_4 + p_5 x_5\n",
    "$$\n",
    "\n",
    "Note that the final term ($x_5$) requires that we have data for Agricultural and Urban land, which we will need to derive from the remote sensing data for each year of observation.\n",
    "\n",
    "The rest of the data will come from official statistics. An example for the years 1987 to 2000 is given below to give you a feel for the sort of information you will be using:"
   ]
  },
  {
   "cell_type": "markdown",
   "metadata": {},
   "source": [
    "| Year | Investment in capital construction (100 million yuan) | population (10000) | wages in non-state, non-collective units (100 million yuan) | value of gross agricultural output (100 million yuan) |value of gross industrial output (100 million yuan) | agriculture population (100 million yuan) | average total wage (yuan) | productivity ratio|\n",
    "|:-:|---|---|---|---|---|---|---|---|\n",
    "| 1987 | 251.01 | 5832.15 | 4.12 | 348.61 | 878.29 |4522.24 | 1743 |  0.312039409|\n",
    "| 1988 | 353.59\t|5928.31\t|7.93|\t473.78|\t1318.9|\t4561.77|\t2250|\t0.305222663|\n",
    "|1989 |347.34\t|6024.98\t|13.27|\t548.6|\t1647.24|\t4602.23|\t2678|\t0.330817951|\n",
    "|1990 |381.47\t|6246.32\t|18.27|\t600.71|\t1902.25|\t4769.01|\t2929|\t0.380619516|\n",
    "|1991 |478.2\t|6348.95\t|28.23|\t654.82|\t2524.12|\t5210.00|\t3358|\t0.376166347|\n",
    "|1992 |921.75\t|6463.17\t|40.28|\t737.11|\t3479.39|\t4822.37|\t4027|\t0.34788058|\n",
    "|1993|1629.87|\t6581.6\t|70.63|\t899.03|\t5237.37|\t4773.51|\t5327|\t0.349115466|\n",
    "|1994|2141.15|\t6691.46\t|103.9|\t1151.38|\t7273.95|\t4726.74|\t7117|\t0.452607142|\n",
    "|1995|2327.22|\t6788.74\t|150.96|\t1445.48|\t9720.54|\t4753.37|\t8250|\t0.277815958|\n",
    "|1996|2327.64|\t6896.77\t|158.93|\t1577.89|\t10530.93|\t4788.97|\t9127|\t0.508172943|\n",
    "|1997|2298.14|\t7013.73\t|198.04|\t1656.46|\t12372.69|\t4840.23|\t9698|\t0.55606463|\n",
    "|1998|2668.13|\t7115.65\t|263.98|\t1705.44|\t13799.16|\t4896.58|\t10233|\t0.637844818|\n",
    "|1999|3027.56|\t7298.88\t|301.44|\t1745.02|\t15303.33|\t5022.46|\t11309|\t0.749725973|\n",
    "|2000|3233.7\t|   7498.54\t|341.98|\t1701.18|\t16904.47|\t5160.25|\t13823|\t0.814822376\t|\t\t\t\t\t\t\n"
   ]
  },
  {
   "cell_type": "markdown",
   "metadata": {},
   "source": [
    "## Summary\n",
    "\n",
    "The project involves the following tasks:\n",
    "\n",
    "### Data processing\n",
    "\n",
    "* Download Landsat annual datasets for 1986 to present (or some suitable subset). **(of secondary importance)**\n",
    "* For one year (your choice), perform a supervised classification and an unsupervised classification using `envi` and assess the accuracy of the classifications; **(of primary importance)**\n",
    "* Perform unsupervised classifications (clustering) of the time series of Landsat data, using an `envi` program that you will be provided with;\n",
    "    * apply suitable class labels, and modify the number of classes as appropriate; **(of primary importance)**\n",
    "* Calculate the area of urban land use for Shenzhen for each year **(of primary importance)**\n",
    "* Calculate the area of urban land use change for Shenzhen for each year **(of primary importance)** \n",
    "* Estimate the area of agricultural land use for Shenzhen for each year **(of secondary importance)**\n",
    "\n",
    "### Modelling\n",
    "\n",
    "* Using the data derived above, calibrate a model that describes urban land use change as a function of a set of socioeconomic factors, following the approach of Seto et al. (2002, 2003) **(of primary importance)**\n",
    "\n",
    "![](images/comp.png)\n",
    "\n",
    "* Test the model to assess uncertainty **(of secondary importance)**\n",
    "\n"
   ]
  },
  {
   "cell_type": "markdown",
   "metadata": {},
   "source": [
    "## Details"
   ]
  },
  {
   "cell_type": "markdown",
   "metadata": {},
   "source": [
    "* [Classification](CW-1-PearlRiver-Class.ipynb)\n",
    "* [Modelling](2021_UrbanModel.ipynb)\n",
    "* [Write Up](WriteUp.ipynb)\n",
    "\n"
   ]
  },
  {
   "cell_type": "markdown",
   "metadata": {},
   "source": [
    "## Further Reading"
   ]
  },
  {
   "cell_type": "markdown",
   "metadata": {},
   "source": [
    "[Hao, P. (2012) Spatial evolution of urban villages in Shenzhen. PhD thesis University of Twente; Summaries in Dutch and English. ITC Dissertation 205, ISBN: 978-90-6266-295-1.](https://webapps.itc.utwente.nl/librarywww/papers_2012/phd/puhao.pdf)\n",
    "\n",
    "[Seto, K.C., Woodcock, C.E., Song, C., Huand, X., Lu, J., and Kaufmann, R.K. (2002) Monitoring land-use change in the Pearl River Delta using Landsat TM, Int J. Rem. Sens, 23(10).](reading/Setoetal2002.pdf)\n",
    "\n",
    "[Seto, K.C., and Kaufmann, R.K., (2003) Modeling the Drivers of Urban Land Use Change in the Pearl River Delta, China: Integrating Remote Sensing with Socioeconomic Data, Land Economics, 79(1): 106-121](reading/SetoandKaufmann2003.pdf)"
   ]
  }
 ],
 "metadata": {
  "kernelspec": {
   "display_name": "Python 3",
   "language": "python",
   "name": "python3"
  },
  "language_info": {
   "codemirror_mode": {
    "name": "ipython",
    "version": 3
   },
   "file_extension": ".py",
   "mimetype": "text/x-python",
   "name": "python",
   "nbconvert_exporter": "python",
   "pygments_lexer": "ipython3",
   "version": "3.6.6"
  },
  "toc": {
   "base_numbering": 1,
   "nav_menu": {},
   "number_sections": false,
   "sideBar": true,
   "skip_h1_title": false,
   "title_cell": "Table of Contents",
   "title_sidebar": "Contents",
   "toc_cell": false,
   "toc_position": {},
   "toc_section_display": true,
   "toc_window_display": true
  }
 },
 "nbformat": 4,
 "nbformat_minor": 1
}

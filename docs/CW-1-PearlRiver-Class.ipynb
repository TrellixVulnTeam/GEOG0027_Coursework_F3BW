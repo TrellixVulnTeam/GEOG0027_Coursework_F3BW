{
 "cells": [
  {
   "cell_type": "markdown",
   "metadata": {},
   "source": [
    "![](images/ucl_logo.png)"
   ]
  },
  {
   "cell_type": "markdown",
   "metadata": {},
   "source": [
    "# Geog 2021 Coursework: Part 1: Classification"
   ]
  },
  {
   "cell_type": "markdown",
   "metadata": {},
   "source": [
    "Prepared by:\n",
    "\n",
    "[Dr Qingling Wu](http://www.geog.ucl.ac.uk/about-the-department/people/academic-staff/qingling-wu), [Prof Philip Lewis](http://www2.geog.ucl.ac.uk/~plewis/), [Dr Mathias Disney](http://www.geog.ucl.ac.uk/about-the-department/people/academic-staff/mat-disney)\n",
    "\n",
    "Contact: [Prof Lewis](<mailto: p.lewis@ucl.ac.uk>)\n",
    "\n",
    "-----------------\n",
    "\n",
    "[[Next](Download.ipynb)] [[Home](CW-1-Pearl-River-Intro.ipynb#Geog-2021-Coursework)] [[Prev](CW-1-Pearl-River-Intro.ipynb#Geog-2021-Coursework)]"
   ]
  },
  {
   "cell_type": "markdown",
   "metadata": {},
   "source": [
    "# 2.0 Extraction of land use extent"
   ]
  },
  {
   "cell_type": "markdown",
   "metadata": {},
   "source": [
    "Your task in this section is to calculate the area of land cover & land use (LULC) extent (in $m^2$) for each year of a series of Landsat imagery, along with an associated characterization of uncertainty in each of these areas. \n",
    "\n",
    "As a first step, we need to quantify **at least three types** (urban, agricultural, and natural) of land uses for each given year. A number of classification methods have been taught in this module, and Maximum Likelihood is a good starting point for multispectral TM imagery. There are also other image processing methods could help to identify land use classes (e.g. vegetation indices, filters, segmentation, etc.). Then, we can identify where changes have happened and how much land area has been transformed into urban built.  See example land use change map below from [Seto et al. 2002](http://www.unc.edu/courses/2008spring/geog/577/001/www/Seto02-IJRS.pdf)."
   ]
  },
  {
   "cell_type": "markdown",
   "metadata": {},
   "source": [
    "## 2.1 Obtaining Landsat data"
   ]
  },
  {
   "cell_type": "markdown",
   "metadata": {},
   "source": [
    "See the section [Download](Download.ipynb) for information on how to obtain, pre-process and explore data.\n",
    "\n",
    "In that section, you will learn how to order Landsat data from the USGS, including how to search only for the area we are interested in.\n",
    "\n",
    "You will attempt to find one clear scene (cloud-free or nearly so) per year, over the longest time period available.\n",
    "\n",
    "You will then learn how to download the datasets.\n",
    "\n",
    "Finally, we present one manual and one automated method for scaling the data, subsetting and producing a mask.\n",
    "\n",
    "You must demonstrate that you have been through all of these steps, providing e.g. email and file link evidence for the files you order from USGS, and demonstrate images in your report (under `Method`) showing the full scenes and subsets (perhaps as false or real colour composites). You should also show the associated mask files in your report.\n",
    "\n",
    "You do not need to use the 'automated' subsetting method: you can do everything manually if you wish. \n",
    "\n",
    "If you use the automated method, make sure you provide evidence that you have processed one scene with the manual method (appropriate images/stats at each stage)\n",
    "\n",
    "In any case, remember to write up each of the steps you go through in producing the input dataset for classification, and provide appropriate evidence. This will be in the `Methods` section, but you may decide to have a seperate `Remote Sensing Data Methods` section for clarity."
   ]
  },
  {
   "cell_type": "markdown",
   "metadata": {},
   "source": [
    "## 2.2 Classifying the data"
   ]
  },
  {
   "cell_type": "markdown",
   "metadata": {},
   "source": [
    "You should now have a set of (annual) image subsets (and associated masks) of the area of interest.\n",
    "\n",
    "You next need to perform a classification on each image (each date).\n",
    "\n",
    "Since the data should be in reflectance, you should be able to interpret spectral profiles and scatterplots more easily when exploring the data.\n",
    "\n",
    "You may use any classification method you think appropriate, but it is sufficient to use those presented in the first half of term. If you use another type of classifier sensibly and appropriately, you may get extra credit in this sesction (so long as you cover all required elements).  \n",
    "\n",
    "![](images/classy.png)"
   ]
  },
  {
   "cell_type": "markdown",
   "metadata": {},
   "source": [
    "You *must* include an accuracy assessment for each classification you perform. You must explain in the `Methods` section (possibly a seperate `Classification Methods` section) what classification algorithm(s) you used, and what settings you made (do not report defaults, just when you change things: this is to make your experiment **repeatable**). \n",
    "\n",
    "You may compare the results of multiple algorithms, and may get extra credit for this (so long as you cover all required elements).\n",
    "\n",
    "Note that if you use the masks as generated above, you need to check the `Inverse Mask` box when applying the mask. If you use a mask, you must show this as part of the evidence of having carried out the method.\n",
    "\n",
    "The `Methods` section or sub-section should contain 'full-sized' (on the page) pictures of the classification result, along with an appropriate table to interpret the colours. You must mention at this point if you have chosen to do any post-classification processing and demonstrate the steps taken. We mention this to allow you to more easily seperate which parts of the work should go into which section: all details and descriptions of the classifications, up to the point of producing a set of classified images and an appropriate dataset for validation must go into the `Methods` section (this is to do with allocation of marks, as much as anything else).\n",
    "\n",
    "In the `Results` section, you must show each classified image in summary form e.g. in a table, for an overview, and provide the results of the classification accuracies. You should also report the number or proportion of pixels of each class, plotted as a function of year and present any other results you feel appropriate. Do *not* present many graphs that essentially show the same thing (unless indicated in these instructions), though you may include some in appendices (not simply to reduce the word count though)."
   ]
  },
  {
   "cell_type": "markdown",
   "metadata": {},
   "source": [
    "[[Next](Download.ipynb)] [[Top](#Geog-2021-Coursework:-Part-1:-Classification)] [[Home](CW-1-Pearl-River-Intro.ipynb#Geog-2021-Coursework)] [[Prev](CW-1-Pearl-River-Intro.ipynb#Geog-2021-Coursework)]"
   ]
  }
 ],
 "metadata": {
  "kernelspec": {
   "display_name": "Python 2",
   "language": "python",
   "name": "python2"
  },
  "language_info": {
   "codemirror_mode": {
    "name": "ipython",
    "version": 2
   },
   "file_extension": ".py",
   "mimetype": "text/x-python",
   "name": "python",
   "nbconvert_exporter": "python",
   "pygments_lexer": "ipython2",
   "version": "2.7.10"
  }
 },
 "nbformat": 4,
 "nbformat_minor": 0
}

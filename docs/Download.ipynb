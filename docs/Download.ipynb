{
 "cells": [
  {
   "cell_type": "markdown",
   "metadata": {},
   "source": [
    "![](images/ucl_logo.png)"
   ]
  },
  {
   "cell_type": "markdown",
   "metadata": {},
   "source": [
    "[[Next](2021_UrbanModel.ipynb#4.0-Urban-Model)] [[Home](CW-1-Pearl-River-Intro.ipynb#Geog-2021-Coursework)] [[Prev](CW-1-PearlRiver-Class.ipynb#Geog-2021-Coursework:-Part-1:-Classification)]"
   ]
  },
  {
   "cell_type": "markdown",
   "metadata": {},
   "source": [
    "# 3. Download data "
   ]
  },
  {
   "cell_type": "markdown",
   "metadata": {},
   "source": [
    "In this section, you will learn how to order Landsat data from the USGS, including how to search only for the area we are interested in.\n",
    "\n",
    "You will attempt to find one clear scene (cloud-free or nearly so) per year, over the longest time period available. This *must* include the period 1987 to 2000, as this will directly be used in the modelling. Any other years that you process could be used to provide a context to growth outside of the target years.\n",
    "\n",
    "You will then learn how to download the datasets.\n",
    "\n",
    "Finally, we present one manual and one automated method for scaling the data, subsetting and producing a mask.\n",
    "\n",
    "You must demonstrate that you have been through all of these steps, providing e.g. email and file link evidence for the files you order from USGS, and demonstrate images in your report (under `Method`) showing the full scenes and subsets (perhaps as false or real colour composites). You should also show the associated mask files in your report.\n",
    "\n",
    "You do not need to use the 'automated' subsetting method: you can do everything manually if you wish. \n",
    "\n",
    "If you use the automated method, make sure you provide evidence that you have processed one scene with the manual method (appropriate images/stats at each stage)"
   ]
  },
  {
   "cell_type": "markdown",
   "metadata": {},
   "source": [
    "## 3.1 Downloading and visualisation tools "
   ]
  },
  {
   "cell_type": "markdown",
   "metadata": {},
   "source": [
    "\n",
    "The first task is to download the data that you will need.\n",
    "\n",
    "There are several tools available to you for browsing and ordering Landsat data. See the [USGS](http://landsat.usgs.gov/Landsat_Search_and_Download.php) for a full description of the data products and where to order them.\n",
    "\n",
    "The area we are interested in is shown below [(UTM Zone 49 UL 767385 2533665, LR 827985 2493765)](http://www.ngs.noaa.gov/cgi-bin/utm_getgp.prl):\n",
    "\n",
    "![](images/area.png)\n",
    "\n",
    "around the city of Shenzhen:\n",
    "\n",
    "[![](images/zoom.png)](http://www.rcn.montana.edu/resources/converter.aspx)\n",
    "\n",
    "which is contained in Landsat [**WRS2**](http://landsat.usgs.gov/worldwide_reference_system_WRS.php) [**Path 122**, **Row 44**](http://landsat.gsfc.nasa.gov/wp-content/uploads/2013/01/wrs2.gif).\n",
    "\n",
    "You will see that this region is in the bottom right section of the landsat scene:\n",
    "\n",
    "![](images/full.png )"
   ]
  },
  {
   "cell_type": "markdown",
   "metadata": {},
   "source": [
    "## 3.2 Use the Surface Reflectance product"
   ]
  },
  {
   "cell_type": "markdown",
   "metadata": {},
   "source": [
    "\n",
    "\n",
    "\n",
    "For this work, we suggest that you use the [surface reflectance](http://landsat.usgs.gov/CDR_ECV.php) products. Ordering these data involves using the [USGS Earth Resources Observation and Science (EROS) Center Science Processing Architecture (ESPA) On Demand Interface](https://espa.cr.usgs.gov/).\n",
    "\n",
    "Whilst there are several ways you can select scenes for download, one of the more straightforward is simply to select and order the scenes using [EarthExplorer](http://earthexplorer.usgs.gov).\n",
    "\n",
    "\n",
    "\n"
   ]
  },
  {
   "cell_type": "markdown",
   "metadata": {},
   "source": [
    "\n",
    "See [Product Guide: Landsat CDR Surface Reflectance, on-demand version](http://landsat.usgs.gov/documents/cdr_sr_product_guide.pdf) for more details on the products.\n",
    "\n",
    "There are of course various alternatives to using the surface reflectance product, but one big advantage of using reflectance should be that the spectral and temporal signatures we see in the data are more easily interpreted than using raw Digital Number (DN). Further, this new Landsat product contains quality flags and masks for cloud and other features. The one downside of the current version of the product os that it does not contain thermal the IR band from Landsat. \n",
    "\n",
    "If you can justify your decision in the write-up, you can choose any of the landsat products available. The notes below however proceed assuming you are using the reflectance data."
   ]
  },
  {
   "cell_type": "markdown",
   "metadata": {},
   "source": [
    "## 3.3 Register the first time"
   ]
  },
  {
   "cell_type": "markdown",
   "metadata": {},
   "source": [
    "\n",
    "\n",
    "The first time you visit the ordering service, you will need to [register for an account](https://earthexplorer.usgs.gov/register). Make sure you remember the usename and password you used for registration!\n",
    "\n"
   ]
  },
  {
   "cell_type": "markdown",
   "metadata": {},
   "source": [
    "## 3.4 Order Scenes"
   ]
  },
  {
   "cell_type": "markdown",
   "metadata": {},
   "source": [
    "Visit the [USGS EarthExplorer](http://earthexplorer.usgs.gov) site, and search for suitable datasets.\n",
    "\n",
    "You are looking for datasets for [**Path 122**, **Row 44**](http://landsat.gsfc.nasa.gov/wp-content/uploads/2013/01/wrs2.gif) in the [**WRS2**](http://landsat.usgs.gov/worldwide_reference_system_WRS.php)\n",
    "\n",
    "![](images/USGS-Download-Row-Path.jpg)\n",
    "\n",
    "and may wish to refine the search criteria (e.g. try only searching for data in January and December). You should consider why it might be appropriate to try to select datasets at the same time of year.\n",
    "\n",
    "![](images/USGS-Download-date.png)\n",
    "\n",
    "then select one or more of the Landsat sensors in the **Landsat CDR** option:\n",
    "\n",
    "![](images/USGS-Download-ls.png)\n",
    "\n",
    "Under the tab **Additional Criteria**, you can force the search to be only for **Path 122**, **Row 44**, and e.g. refine the 'cloud cover' conditions  (e.g. **less than 10%** might be a place to start).\n",
    "\n",
    "Note that if you don't get a suitable set of images for this snalysis, you may have to refine your search conditions (e.g. consider more months).\n",
    "\n",
    "**You now need to look through the results to find scenes approximately 1 year apart for as many years as you can from the archive. You should avoid scenes that have cloud cover in the lower right quadrant of the scene: select only those that appear to be cloud-free.**\n",
    "\n",
    "![](images/resultim.png)\n",
    "![](images/cloud.png)\n",
    "\n",
    "When you have selected suitable scenes, login to the usgs site (if not already logged in) and add the images you want to the 'basket'.\n",
    "\n",
    "You should then check what you have ordered, proceed to 'checkout' and order the data.\n",
    "\n",
    "Since these data are through an 'on demand' service, the system will send you an email (to the account you registered) once the datasets are prepared."
   ]
  },
  {
   "cell_type": "markdown",
   "metadata": {},
   "source": [
    "## 3.5 Download Scenes"
   ]
  },
  {
   "cell_type": "markdown",
   "metadata": {},
   "source": [
    "You will be sent an email from the USGS.\n",
    "\n",
    "**You must keep this email to show evidence that you have ordered the data**.\n",
    "\n",
    "\n",
    "The email will give you a web address that will look something like [http://espa.cr.usgs.gov/ordering/status/f.bloggs@nasa.gov](http://espa.cr.usgs.gov/ordering/status/f.bloggs@nasa.gov/). \n",
    "\n",
    "If you have recent or active orders, this web page should show you the status for each file (wait until it says 'complete').\n",
    "\n",
    "[![](images/download.png)](http://espa.cr.usgs.gov/orders/p.lewis@ucl.ac.uk-0101502170300/LE71220441999255-SC20150217105511.tar.gz)\n",
    "\n",
    "Then, you can download the file (using the Download link).\n",
    "\n",
    "**You must keep a record of the download links to show evidence that you have ordered the data**, e.g.:\n",
    "\n",
    "`http://espa.cr.usgs.gov/orders/f.bloggs@nasa.gov-0101502242983/LE71220442000306-SC20150224104838.tar.gz`\n",
    "\n",
    "Save all of the download links in a file toi include in your report.\n",
    "\n",
    "The filename will be something like:\n",
    "\n",
    "`LE71220441999255-SC20150217105511.tar.gz`\n",
    "\n",
    "There is no need to 'unzip' or 'untar' the file: just download it for the moment.\n",
    "\n",
    "**Make sure you remember which directory you have downloaded the data to.** \n",
    "\n",
    "You should probably download the datasets to you `DATA` disk, or you might run out of quota, or at least move the files to the `DATA` disk soon after.\n",
    "\n",
    "As the files are quite large, it may take some minutes to download each scene."
   ]
  },
  {
   "cell_type": "markdown",
   "metadata": {},
   "source": [
    "## 3.6 Subsetting Scenes: Hard"
   ]
  },
  {
   "cell_type": "markdown",
   "metadata": {},
   "source": [
    "### 3.6.1 Uncompress a test dataset"
   ]
  },
  {
   "cell_type": "markdown",
   "metadata": {},
   "source": [
    "The Landsat image scenes contain data over a much greater extent than we need for this practical, and since the datasets are archived (at USGS) there is no need to keep the original files once we have extracted the area we want from them.\n",
    "\n",
    "In this exercise, we want you to understand how to use the tool ENVI to do some basic operations on image datasets.\n",
    "\n",
    "As we shall see, it is often easier to write some computer code that will do some automated task over many datasets, but first lets do it the 'hard' way (using ENVI).\n",
    "\n",
    "First, choose one of the Landsat datasets you have downloaded.\n",
    "\n",
    "In a unix terminal, change directory to where the downloaded files are, e.g.:"
   ]
  },
  {
   "cell_type": "code",
   "execution_count": 1,
   "metadata": {
    "collapsed": false
   },
   "outputs": [
    {
     "name": "stderr",
     "output_type": "stream",
     "text": [
      "x LE71220442000306SGS00_cfmask.tif\n",
      "x LE71220442000306SGS00_sr_band7.tif\n",
      "x LE71220442000306SGS00_sr_cloud_qa.tif\n",
      "x LE71220442000306SGS00_sr_ddv_qa.tif\n",
      "x LE71220442000306SGS00_sr_adjacent_cloud_qa.tif\n",
      "x LE71220442000306SGS00_sr_band1.tif\n",
      "x LE71220442000306SGS00_sr_land_water_qa.tif\n",
      "x LE71220442000306SGS00_sr_band2.tif\n",
      "x LE71220442000306SGS00_sr_snow_qa.tif\n",
      "x LE71220442000306SGS00_sr_cloud_shadow_qa.tif\n",
      "x LE71220442000306SGS00_sr_band5.tif\n",
      "x LE71220442000306SGS00_sr_atmos_opacity.tif\n",
      "x LE71220442000306SGS00.xml\n",
      "x LE71220442000306SGS00_sr_fill_qa.tif\n",
      "x LE71220442000306SGS00_sr_band3.tif\n",
      "x LE71220442000306SGS00_sr_band4.tif\n"
     ]
    }
   ],
   "source": [
    "%%bash\n",
    "# NB - don't type 'bash' as above if you are using a unix shell\n",
    "# The file name may or may not have a .gz on the end\n",
    "\n",
    "# here, we suppose the download directory to be called 'download'\n",
    "cd download\n",
    "\n",
    "# un'tar' (like unzip) the file\n",
    "tar xvzf LE71220442000306-SC20150224104838.tar"
   ]
  },
  {
   "cell_type": "markdown",
   "metadata": {},
   "source": [
    "### 3.6.2 Package the dataset"
   ]
  },
  {
   "cell_type": "markdown",
   "metadata": {},
   "source": [
    "The file we downloaded contains a set of `tif` format files ([geotiff](http://en.wikipedia.org/wiki/GeoTIFF)).\n",
    "\n",
    "The meaning of the various files is explained in the [Product Guide: Landsat CDR Surface Reflectance, on-demand version](http://landsat.usgs.gov/documents/cdr_sr_product_guide.pdf).\n",
    "\n",
    "We are primarily interested in the files:\n",
    "\n",
    "`sr_cfmask`:\n",
    "\n",
    "![](images/cfmask.png)\n",
    "\n",
    "and the files:\n",
    "\n",
    "`sr_band[1-7]`. \n",
    "\n",
    "![](images/refl.png)\n",
    "\n",
    "\n",
    "\n",
    "**In ENVI**, open up all of the `sr_cfmask` and `sr_bandX` datasets:\n",
    "\n",
    "![](images/tifload.png)\n",
    "\n",
    "Then select `New File Builder` from the `Raster Management` section of the toolbox:\n",
    "\n",
    "![](images/new.png)\n",
    "\n",
    "\n",
    "This should allow you to stack the reflectance data from the `tif` files into a single image dataset.\n",
    "\n",
    "This in turn should allow you to display, e.g. a false colour composite:\n",
    "\n",
    "![](images/fcc.png)"
   ]
  },
  {
   "cell_type": "markdown",
   "metadata": {},
   "source": [
    "### 3.6.3 Build a mask"
   ]
  },
  {
   "cell_type": "markdown",
   "metadata": {},
   "source": [
    "Since the dataset we are using *may* have some clouds, we should build a mask to identify these areas and not include them in the (land cover) classification.\n",
    "\n",
    "Select the toolbox option `Raster Management -> Masking -> Build Mask`, and load the `_cmask.tif` dataset.\n",
    "\n",
    "From the table above, we see that we want to not mask pixels with values 0  (clear). If we believe the water mask to be reliable, we could directly use that to represent pixels with the class 'water', but for now, let's assume we need to build out own classification of water pixels. So, allowing 'clear' or water pixxels is what we want.\n",
    "\n",
    "Check `Options -> Selected Areas \"OFF\"` (so we are defining which areas not to mask).\n",
    "\n",
    "You can then clear any masks that might have been defined as you started the tool, then enter `0` and `1` as the `Data Min Value` and `Data Max Value` respectively under `Options -> Import Data Range`:\n",
    "\n",
    "![](images/mask01.png)\n",
    "\n",
    "Then select an output filename (write down what it is ... perhaps call it `test_mask` or similar) and run the masking. This should create an image which has value 1 for areas we don't want to include and 0 for those we do.\n",
    "\n",
    "![](images/masked.png)\n",
    "\n",
    "Assuming you have the dataset image loaded and now the mask loaded, you should be able to visualise the impact of the mask, using the 'transparency' option, for example. For some cases, you might find the mask is over zealous, and may choose to ignore the mask. If you do so, make sure you document this as part of your 'method' section. Provde evidence for the choices you make (e.g. images or statistics to back up a point).\n",
    "\n",
    "![](images/masktrans.png)"
   ]
  },
  {
   "cell_type": "markdown",
   "metadata": {},
   "source": [
    "### 3.6.4 Extract Area of Interest"
   ]
  },
  {
   "cell_type": "markdown",
   "metadata": {},
   "source": [
    "Under `Toolbox -> Raster Management -> Resize Data`, select the test data file and, in the box marked `Spatial Subset`, select the following:\n",
    "\n",
    "![](images/subsett.png)\n",
    "\n",
    "for the minimum and maximum lines and samples.\n",
    "\n",
    "Continue with the `Resize Data ...`  option, perhaps calling the output file `LE71220442000306SGS00_sub` or something similar.\n",
    "\n",
    "Do the same (subsetting) for the mask image (if you intend using it) and name the file something sensible (e.g. `LE71220442000306SGS00_sub_mask`).\n",
    "\n",
    "If this has worked properly, you should have only the part of the image we wanted:\n",
    "\n",
    "![](images/subber.png)"
   ]
  },
  {
   "cell_type": "markdown",
   "metadata": {},
   "source": [
    "### 3.6.5 Apply Gain Setting"
   ]
  },
  {
   "cell_type": "markdown",
   "metadata": {},
   "source": [
    "You may find it of use to apply the gain setting of `0.0001` noted in the product data table. You can do this using `Toolbox -> Radiometric Correction -> Apply Gain and Offset`, setting all of ther gain values to `0.0001` in the list. You might save this as e.g. `LE71220442000306SGS00_sub_refl`.\n",
    "\n",
    "Once you have the `_sub_refl` and `_sub_mask` files, along with their ancilliary files `_sub_refl.enp`, `_sub_mask.enp` and `_sub_refl.hdr`, `_sub_mask.hdr`, you should copy these to a new data directory, as these are the files you will work on for the rest of the project.\n",
    "\n",
    "If you are short of space, you can delete the other files generated."
   ]
  },
  {
   "cell_type": "markdown",
   "metadata": {},
   "source": [
    "## 3.7 Subsetting Scenes: Easy"
   ]
  },
  {
   "cell_type": "markdown",
   "metadata": {},
   "source": [
    "The process you have been through above is instructive when learning the steps you might need to go through in preparing your data, but it is tedious (and unreliable) to do all of this 'by hand' for more than a few images.\n",
    "\n",
    "Another approach is to write a computer program to achieve the same thing. \n",
    "\n",
    "In fact, this can be directly interfaced with ENVI if you use the programming language [`IDL`](http://www.exelisvis.co.uk/ProductsServices/IDL.aspx), though some consider the language rather inelegant. For this reason, we will use some codes written in the [Python](https://www.python.org) language.\n",
    "\n",
    "It is not at all vital that you follow the details of the code, though you might find it interesting to try to work out what is going on.\n",
    "\n",
    "First, we uncompress the files (which files, is controlled by the `dirname` variable below:"
   ]
  },
  {
   "cell_type": "code",
   "execution_count": 1,
   "metadata": {
    "collapsed": false
   },
   "outputs": [
    {
     "name": "stdout",
     "output_type": "stream",
     "text": [
      "files/new/LT51220441995364-SC20150217103827.tar.gz\n",
      "/Users/plewis/2021/files/new/LT51220441995364\n"
     ]
    }
   ],
   "source": [
    "# Uncompress files\n",
    "%matplotlib inline\n",
    "import sys\n",
    "from glob import glob\n",
    "sys.path.insert(0,'python')\n",
    "from uncompress_ls import uncompress_ls\n",
    "from sort_landsat import sort_landsat\n",
    "\n",
    "# this is where you specify the names of your downloaded files\n",
    "allofiles = []\n",
    "for dirname in glob('files/new/LT51220441995364-*.tar.gz'):\n",
    "    files = uncompress_ls(dirname,temp_dir='temp')\n",
    "    ofiles = sort_landsat(files)\n",
    "    allofiles.append(allofiles)\n",
    "# The list files now contains the temporary\n",
    "# filenames of the files we uncompressed\n",
    "# we will delete these at the emd"
   ]
  },
  {
   "cell_type": "markdown",
   "metadata": {},
   "source": [
    "So these are the files created:"
   ]
  },
  {
   "cell_type": "code",
   "execution_count": 3,
   "metadata": {
    "collapsed": false
   },
   "outputs": [
    {
     "name": "stdout",
     "output_type": "stream",
     "text": [
      "['LT51220441995364CLT00', 'LT51220441995364CLT00_mask', 'LT51220441995364CLT00_refl.tif', 'LT51220441995364CLT00_mask.tif', ['LT51220441995364CLT00_refl.tif', 'LT51220441995364CLT00_mask.tif']]\n"
     ]
    }
   ],
   "source": [
    "print allofiles"
   ]
  },
  {
   "cell_type": "markdown",
   "metadata": {},
   "source": [
    "## 3.8 Data Visualisation"
   ]
  },
  {
   "cell_type": "markdown",
   "metadata": {},
   "source": [
    "Now you have one or more datasets of the area, load them into ENVI and explore the data. Provide examples of e.g. interesting spectral profiles, transects, histograms or scatter plots that you would normally produce as part of a data exploration exercise."
   ]
  },
  {
   "cell_type": "markdown",
   "metadata": {},
   "source": [
    "[[Next](2021_UrbanModel.ipynb#4.0-Urban-Model)] [[Top](#3.-Download-data)] [[Home](CW-1-Pearl-River-Intro.ipynb#Geog-2021-Coursework)]  [[Prev](CW-1-PearlRiver-Class.ipynb#Geog-2021-Coursework:-Part-1:-Classification)]"
   ]
  }
 ],
 "metadata": {
  "kernelspec": {
   "display_name": "Python 2",
   "language": "python",
   "name": "python2"
  },
  "language_info": {
   "codemirror_mode": {
    "name": "ipython",
    "version": 2
   },
   "file_extension": ".py",
   "mimetype": "text/x-python",
   "name": "python",
   "nbconvert_exporter": "python",
   "pygments_lexer": "ipython2",
   "version": "2.7.11"
  }
 },
 "nbformat": 4,
 "nbformat_minor": 0
}

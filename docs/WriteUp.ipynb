{
 "cells": [
  {
   "cell_type": "markdown",
   "metadata": {},
   "source": [
    "# 5.0 Project Write up"
   ]
  },
  {
   "cell_type": "markdown",
   "metadata": {},
   "source": [
    "[[Home](CW-1-Pearl-River-Intro.ipynb#Geog-2021-Coursework)]  [[Prev](2021_UrbanModel.ipynb#4.0-Urban-Model)]"
   ]
  },
  {
   "cell_type": "markdown",
   "metadata": {},
   "source": [
    "## Assessment\n",
    "\n"
   ]
  },
  {
   "cell_type": "markdown",
   "metadata": {},
   "source": [
    "\n",
    "* 100% Assessed Practical (3500 words) - submission date standard 2nd year submission date i.e. Weds 23th March 2016 (12 noon).\n",
    "\n",
    "NB:\n",
    "\n",
    "* Penalties for late submission and over length WILL be applied\n",
    "* BOTH components must be submitted for the course to be complete\n",
    "* Different arrangements for JYA/Socrates (make sure you inform the lecturers if this affects you)"
   ]
  },
  {
   "cell_type": "markdown",
   "metadata": {},
   "source": [
    "## Write up\n",
    "\n",
    "Your write-up should include figures and diagrams relevant to describing the approach you have taken and sufficient to demonstrate your results. You may if you wish include additional results in an appendix should you feel this relevant. Any appendix will not count as a part of the 2500 word limit, and will not be formally assessed as part of the submission.\n",
    "\n",
    "\n",
    "The write-up should be in the style of a scientific experimentation report, i.e. providing an abstract, an introduction/context section, a brief outline of any theory any method. It should normally have one or more sections on the experimentation and results, followed by a discussion/conclusions section.\n",
    "\n",
    "It should be possible to obtain some reasonable results within this experiment, but that is not the critical factor in our assessment. We are more interested in you demonstrating that you have carried out a sensible set of experimentation within the tools and time available (achieving the minimal requirements for a pass-level grade), and that you have written it up clearly and concisely, with relevant and sufficient reference to the literature. We will be looking for a clear discussion of the model and the results, as well as a set of relevant conclusions. As always, the highest marks marks can be gained for clarity, originality, application and demonstration of depth of understanding.\n",
    "\n",
    "You may wish to deviate from this structure in your write-up, but you are advised to seek advice from the course tutors before doing so.\n",
    "\n",
    "One or both of the course tutors will be available during practical classes, as well as during their normal office hours.\n",
    "\n",
    "All graphs, figures, etc. must be correctly labelled, and your citations must be done correctly."
   ]
  },
  {
   "cell_type": "markdown",
   "metadata": {},
   "source": [
    "## A Suggested Structure\n"
   ]
  },
  {
   "cell_type": "markdown",
   "metadata": {},
   "source": [
    "\n",
    "To help you plan your work, we suggest the following structure. Note that we have assigned percentage marks to each section. You may. of course, deviate from this plan, but bear in mind that that might make allocating the marks more difficult for an examiner.\n",
    "\n"
   ]
  },
  {
   "cell_type": "markdown",
   "metadata": {},
   "source": [
    "## Introduction (5%)\n",
    "\n"
   ]
  },
  {
   "cell_type": "markdown",
   "metadata": {},
   "source": [
    "\n",
    "Providing an overview of the experimentation and their context, with reference to relevant literature. In essence, this section needs to address the question 'why is this a worthwhile exercise to do' (other than just from a perspective of learning remote sensing). Part of that question is of course 'how does this relate to what is already known (in the literature)."
   ]
  },
  {
   "cell_type": "markdown",
   "metadata": {},
   "source": [
    "## Classification Theory (15%)"
   ]
  },
  {
   "cell_type": "markdown",
   "metadata": {},
   "source": [
    "Providing a clear introduction to the concept of classification of remote sensing data into land cover/land use types. You should distinguish the terms 'land cover' and 'land use' in this. You should provide a review of classification methods, with appropriate reference to the literature and relevant examples (include figures). You should make sure that you cover at least the approach(es) you will use in this work and a consideration of other options. You should provide some assessment of the options and justify the approach you will take (referring to the introduction for what you want to get out of this study). This section should provide the context for the 'data method' section below (e.g., why we collect training statistics and how they are used, what some of the issues may be etc.).\n",
    "\n",
    "If you intend using any 'postprocessing' (e.g. local majority filtering), you should also cover that theory in this section: i.e. why you do it, how it works, what any issues are (reference to the literature).\n",
    "\n",
    "You should also include an overview of how the accuracy of classification may be performed, covering any issues that might arise with this. You should explain the structure of a contingency table (classification accuracy matrix, or 'confusion' matrix).\n",
    "\n",
    "This section *must* make significant reference to a suitable range of literature (text books ok for methods/theory, but with some examples from journal papers)."
   ]
  },
  {
   "cell_type": "markdown",
   "metadata": {},
   "source": [
    "## Model Theory (5%)"
   ]
  },
  {
   "cell_type": "markdown",
   "metadata": {},
   "source": [
    "Providing a clear introduction to the *type* of model used here (possibly compared to other sorts of models we might use, with relevant literature cited) and its properties. You should also present any relevant theory for the uncertainty framework/metrics you will use in the report."
   ]
  },
  {
   "cell_type": "markdown",
   "metadata": {},
   "source": [
    "## Data Method (10%)"
   ]
  },
  {
   "cell_type": "markdown",
   "metadata": {},
   "source": [
    "Providing a description of the tasks you have gone through to order, download and subset the data (data 'pre-processing'), along with evidence that you have done this (suitable figures/plots/statistics). \n",
    "\n",
    "You must keep and present the email from USGS to show evidence that you have ordered the data.\n",
    "The email will give you a web address that will look something like http://espa.cr.usgs.gov/ordering/status/f.bloggs@nasa.gov. You should also include the web link of the files you download, and some visdualisation of the input (and subsetted) datasets.\n",
    "\n",
    "You must describe the method for classification: *not* 'click this button' style, but rather describe the processes you go through and any settings you set (in the context of the theory you have set up in the section above). This must be a sufficient description so that the process you have gone through would be repeatable (an important aspect of science).\n",
    "\n",
    "You must also present the method you will use for validation of the classification (in the context of the theory section above)."
   ]
  },
  {
   "cell_type": "markdown",
   "metadata": {},
   "source": [
    "## Model Method (10%)\n",
    "\n"
   ]
  },
  {
   "cell_type": "markdown",
   "metadata": {},
   "source": [
    "Providing a description of the model or models that you use and the associated datasets (so, mainly the socio-economic drivers: the classification method is described above).\n",
    "\n",
    "You must describe how you are using the model (e.g. in a spreadsheet or through the Python code provided), and relate methods associated with uncertainty estimation to material in the model theory section."
   ]
  },
  {
   "cell_type": "markdown",
   "metadata": {},
   "source": [
    "## Data Results (15%)\n",
    "\n"
   ]
  },
  {
   "cell_type": "markdown",
   "metadata": {},
   "source": [
     "**You must present classification results in part** of this 'data method' section.\n",
    "\n",
    "Providing classification images (with appropriate key) at a resolution they can be veiwed in the text, associated statistics and plots (e.g. plot urban area or other variables as a function of time), results of the accuracy assessment, and change statistics.\n",
    "\n"
   ]
  },
  {
   "cell_type": "markdown",
   "metadata": {},
   "source": [
    "## Model Results (15%)\n",
    "\n"
   ]
  },
  {
   "cell_type": "markdown",
   "metadata": {},
   "source": [
    "Providing the results of the modelling exercise (parameters, uncertainty, other things of interest listed under 'extras' such as AIC etc.) presented in suitable form. Use plots and tables etc as appropriate.\n",
    "\n"
   ]
  },
  {
   "cell_type": "markdown",
   "metadata": {},
   "source": [
    "## Discussion (15%)\n",
    "\n"
   ]
  },
  {
   "cell_type": "markdown",
   "metadata": {},
   "source": [
    "\n",
    "A discussion of the classification and modelling results and their implications. The mark here will depend greatly on the depth and insight shown."
   ]
  },
  {
   "cell_type": "markdown",
   "metadata": {},
   "source": [
    "## Conclusions (10%)\n",
    "\n"
   ]
  },
  {
   "cell_type": "markdown",
   "metadata": {},
   "source": [
    "\n",
    "\n",
    "Bring the report to a conclusion, putting the results and discussion materials in the context that you set up in the introduction and theory sections. Make suggestions for future improvements (though for this to count for much, you *must* give some indication of how this might be achieved).\n"
   ]
  },
  {
   "cell_type": "markdown",
   "metadata": {},
   "source": [
    "[[Home](CW-1-Pearl-River-Intro.ipynb#Geog-2021-Coursework)] [[Top](WriteUp.ipynb#Project-Write-up)] [[Prev](2021_UrbanModel.ipynb#2.0-Urban-Model)]"
   ]
  }
 ],
 "metadata": {
  "kernelspec": {
   "display_name": "Python 2",
   "language": "python",
   "name": "python2"
  },
  "language_info": {
   "codemirror_mode": {
    "name": "ipython",
    "version": 2
   },
   "file_extension": ".py",
   "mimetype": "text/x-python",
   "name": "python",
   "nbconvert_exporter": "python",
   "pygments_lexer": "ipython2",
   "version": "2.7.10"
  }
 },
 "nbformat": 4,
 "nbformat_minor": 0
}

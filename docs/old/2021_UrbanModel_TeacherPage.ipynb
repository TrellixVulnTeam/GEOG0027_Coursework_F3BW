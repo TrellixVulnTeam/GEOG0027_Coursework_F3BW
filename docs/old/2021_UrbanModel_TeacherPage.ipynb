{
 "cells": [
  {
   "cell_type": "markdown",
   "metadata": {},
   "source": [
    "![](images/class_movie4.gif)\n",
    "\n",
    "## Modelling Land Use change with socio-economic drivers: Teacher page\n",
    "\n",
    "Having derived a dataset of urban land use, we can calculate urban land use change per year.\n",
    "\n",
    "Following the general approach of [Seto & Kaufmann (2003)](reading/SetoandKaufmann2003.pdf), we will build a multi-linear model to attempt to describe the urban land use change per year (the 'y' variable) as a function of a number of key socioeconomic factors (e.g. capital investment, land productivity, population, wage rates, etc) (the '$x$' variables). \n",
    "\n",
    "We suppose that we have observation ('$y$') data for $N_{years}$ and $N_{params}$ of socioeconomic factors for each of these years.\n",
    "\n",
    "So, we will derive a (multi)*linear* model that we could phrase as:\n",
    "\n",
    "**Equation 1:**\n",
    "$$\n",
    "y = c +  M x                \n",
    "$$\n",
    "\n",
    "where we supply the following information:\n",
    "\n",
    "* $y$ is a column vector of length $N_{years} - 1$ with urban land use change per year. The minus 1 is because we must calculate land use *change* from one year to the next.\n",
    "* $x$ is an information matrix of size $N_{params} - 1$ by  $N_{years} - 1$ (one entry for each year, for each socioeconomic factor). The minus 1 associated with $N_{params}$ is because we have an additional parameter, $c$.\n",
    "\n",
    "The model parameters above (i.e. the information we need to derive by fitting to the data) are called $M$ and $c$. Here, $M$ would be a row vector of size $N_{params} - 1$ and $c$ is a scalar. So there are a total of $N_{params}$ *unknown* values (the model parameters) that we need to estimate. \n",
    "\n",
    "Following the example in the paper, we will use the following in $x$:\n",
    "\n",
    "* $x_1$: Investment in capital construction / population\n",
    "* $x_2$: value of gross agricultural output / agriculture population\n",
    "* $x_3$: log(wages in non-state, non-collective units)\n",
    "* $x_4$: log(average total wage)\n",
    "* $x_5$: (value of gross agricultural output/Agricultural land) / (value of gross industrial output / Urban land)\n",
    "\n",
    "This will give a model with 6 parameters that we need to estimate (i.e. 6 unknowns) that we could call $p_0, p_1, p_2, p_3, p_4, p_5$. We could then write the general model more specifically as:\n",
    "\n",
    "**Equation 2:**\n",
    "\n",
    "$$\n",
    "y = p_0 + p_1 x_1 + p_2 x_2 + + p_3 x_3 + p_4 x_4 + p_5 x_5\n",
    "$$\n",
    "\n",
    "Note that the final term ($x_5$) requires that we have data for Agricultural and Urban land, which we will need to derive from the remote sensing data for each year of observation.\n",
    "\n",
    "The rest of the data will come from official statistics. An example for the years 1987 to 2000 is given below to give you a feel for the sort of information you will be using:"
   ]
  },
  {
   "cell_type": "markdown",
   "metadata": {},
   "source": [
    "## Gathering socio-economic data"
   ]
  },
  {
   "cell_type": "markdown",
   "metadata": {},
   "source": [
    "There are many freely available online database for downloading important socio-economic data. Some examples are the Center for International Earth Science Information Network (CIESIN) at Columbia University and the World Bank. The data we will be using here are from the [Guangdong Statistical Yearbook](http://www.gdstats.gov.cn/tjnj/2006/ml_e.htm).\n",
    "\n",
    "![](images/page.png)\n",
    "\n",
    "A spreadsheet with relevant data has been compiled and can be downloaded [here](files/Guangdong-Yearbook-2019.xlsx)\n",
    "\n",
    "Note that the classification results in the spreadsheet are the lecturers' results and **must not** be used in student analyses (i.e. you must put in your own classification results).\n",
    "\n",
    "You will only be able to run the model for years that you have driving (socioeconomic) and Landsat data.\n"
   ]
  },
  {
   "cell_type": "markdown",
   "metadata": {},
   "source": [
    "##  Applying the models"
   ]
  },
  {
   "cell_type": "markdown",
   "metadata": {},
   "source": [
    "Here, we provide some code to calibrate and test the required model:"
   ]
  },
  {
   "cell_type": "code",
   "execution_count": 108,
   "metadata": {},
   "outputs": [],
   "source": [
    "# read LUC data  & socio data\n",
    "book = 'files/Guangdong-Yearbook-2019.xlsx'\n",
    "%matplotlib inline"
   ]
  },
  {
   "cell_type": "code",
   "execution_count": 140,
   "metadata": {},
   "outputs": [
    {
     "name": "stdout",
     "output_type": "stream",
     "text": [
      "[1987. 1988. 1989. 1990. 1991. 1992. 1993. 1994. 1995. 1996. 1997. 1998.\n",
      " 1999. 2000. 2001. 2002. 2003. 2004. 2005. 2006. 2007. 2008. 2009. 2010.\n",
      " 2011. 2012. 2013. 2014. 2015. 2016. 2017. 2018.]\n"
     ]
    }
   ],
   "source": [
    "import xlrd\n",
    "import numpy as np\n",
    "import pandas as pd\n",
    "\n",
    "# This part reads the data from the excel file\n",
    "# given above as 'book'\n",
    "\n",
    "# utility\n",
    "def getfloats(sheet,c):\n",
    "    return np.array([i for i in sheet.col_values(c)[1:] \\\n",
    "                     if type(i) == float])\n",
    "# open the excel file\n",
    "bookf = xlrd.open_workbook(book)\n",
    "sheet = bookf.sheet_by_index(0) # Get the first sheet\n",
    "# get the column headings\n",
    "headings = sheet.row_values(0,end_colx=13)\n",
    "# read the years from 1st col\n",
    "year = getfloats(sheet,0)\n",
    "# read each heading\n",
    "data = {}\n",
    "n = len(year)\n",
    "for i,h in enumerate(headings):\n",
    "    data[h] = getfloats(sheet,i)[:n]\n",
    "print(year)"
   ]
  },
  {
   "cell_type": "code",
   "execution_count": 141,
   "metadata": {},
   "outputs": [
    {
     "name": "stdout",
     "output_type": "stream",
     "text": [
      "(32,)\n",
      "Complete investment in capital construction (固投) 亿元 (32,)\n",
      "实际利用外资(万美元) (31,)\n",
      "population (年末户籍总人口数) 万人 (31,)\n",
      "wages in non-state, non-collective units 亿元 (31,)\n",
      "value of gross agricultural output 亿元 (31,)\n",
      "value of gross inductrial output 亿元 (31,)\n",
      "agriculture population 万人 (31,)\n",
      "average total wage 元 (31,)\n",
      "Agricultural pixels (31,)\n",
      "Urban pixels (31,)\n",
      "Growth (Meansured) (30,)\n",
      "invest / pop (31,)\n"
     ]
    }
   ],
   "source": [
    "# lets see what we have\n",
    "print (year.shape)\n",
    "n = year.shape[0]\n",
    "for i in headings[1:]:\n",
    "    print(i,data[i].shape)\n",
    "    n = min([n,data[i].shape[0]])\n",
    "    \n",
    "#n = 14"
   ]
  },
  {
   "cell_type": "code",
   "execution_count": 152,
   "metadata": {},
   "outputs": [
    {
     "name": "stdout",
     "output_type": "stream",
     "text": [
      "30\n"
     ]
    },
    {
     "data": {
      "image/png": "[encoded data removed]",
      "text/plain": [
       "<Figure size 432x288 with 1 Axes>"
      ]
     },
     "metadata": {
      "needs_background": "light"
     },
     "output_type": "display_data"
    }
   ],
   "source": [
    "# simplify and load variables\n",
    "# shorten to length n-1 because need growth\n",
    "# ie difference\n",
    "investment = data[headings[1]][:n-1]\n",
    "population = data[headings[3]][:n-1]\n",
    "private_wage = data[headings[4]][:n-1]\n",
    "agr_output = data[headings[5]][:n-1]\n",
    "indust_output = data[headings[6]][:n-1]\n",
    "agr_pop = data[headings[7]][:n-1]\n",
    "avg_wage = data[headings[8]][:n-1]\n",
    "\n",
    "#shortened year array\n",
    "year = year[:n]\n",
    "\n",
    "p1 = pd.DataFrame({'year':year[:n],\n",
    "                  'investment':data[headings[1]][:n],\n",
    "                  'population':data[headings[3]][:n],\n",
    "                  'private_wage':data[headings[4]][:n],\n",
    "                  'agr_output':data[headings[5]][:n],\n",
    "                  'indust_output':data[headings[6]][:n],\n",
    "                  'agr_pop':data[headings[7]][:n],\n",
    "                  'avg_wage':data[headings[8]][:n]\n",
    "                 })\n",
    "\n",
    "# save the files as csv\n",
    "\n",
    "p1.to_csv('files/Guangdong-Yearbook-2019.csv')\n",
    "print(n)\n",
    "\n",
    "plt.plot(year[:n],data[headings[10]][:n])\n",
    "\n",
    "p2 = pd.DataFrame({'year':year[:n],'urban_land':data[headings[10]][:n]})\n",
    "p2.to_csv('files/results-2019.csv')"
   ]
  },
  {
   "cell_type": "code",
   "execution_count": 143,
   "metadata": {},
   "outputs": [
    {
     "name": "stdout",
     "output_type": "stream",
     "text": [
      "1987.0 2016.0\n",
      "30 (30,)\n"
     ]
    },
    {
     "data": {
      "text/plain": [
       "<matplotlib.axes._subplots.AxesSubplot at 0x1c2528f550>"
      ]
     },
     "execution_count": 143,
     "metadata": {},
     "output_type": "execute_result"
    },
    {
     "data": {
      "image/png": "[encoded data removed]",
      "text/plain": [
       "<Figure size 432x288 with 1 Axes>"
      ]
     },
     "metadata": {
      "needs_background": "light"
     },
     "output_type": "display_data"
    }
   ],
   "source": [
    "# You can plug your own values or urban land in here\n",
    "# rather than modifying the spreadsheet\n",
    "print(year[0],year[-1])\n",
    "# type your own urban_land in here to override whats in\n",
    "# the spreadsheet: this example has dummy values for > 2000\n",
    "urban_land = data[headings[10]][:n]\n",
    "urban_land = np.array(urban_land)[:n+1]\n",
    "print(n,urban_land.shape)\n",
    "p = pd.DataFrame(np.array([year,urban_land]).T)\n",
    "p.plot(x=0)"
   ]
  },
  {
   "cell_type": "code",
   "execution_count": 144,
   "metadata": {},
   "outputs": [
    {
     "name": "stdout",
     "output_type": "stream",
     "text": [
      "(29,)\n",
      "(29,) (28, 6) (29,)\n"
     ]
    }
   ],
   "source": [
    "%matplotlib inline\n",
    "\n",
    "import statsmodels.api as sm\n",
    "import matplotlib.pyplot as plt\n",
    "\n",
    "# we dont trust ag land stats\n",
    "# so instead here, we estimate it from the urban land\n",
    "agr_land = 2*urban_land.max() - urban_land\n",
    "\n",
    "growth = urban_land[1:]-urban_land[:-1]\n",
    "\n",
    "urban_land = urban_land[:n-1]\n",
    "agr_land   = agr_land[:n-1]\n",
    "\n",
    "data_matrix = np.transpose(np.array([\\\n",
    "                investment[:n]*0+1,\\\n",
    "                investment[:n]/population[:n], \\\n",
    "                agr_output[:n]/agr_pop[:n], \\\n",
    "                np.log(private_wage[:n]), \\\n",
    "                np.log(avg_wage[:n]), \\\n",
    "                (agr_output[:n]/agr_land[:n])/(indust_output[:n]/urban_land[:n])\\\n",
    "                ]))[1:]\n",
    "dyear = year[1:]\n",
    "print (growth.shape)\n",
    "print (urban_land.shape,data_matrix.shape,dyear.shape)"
   ]
  },
  {
   "cell_type": "code",
   "execution_count": 148,
   "metadata": {},
   "outputs": [
    {
     "name": "stdout",
     "output_type": "stream",
     "text": [
      "parameters for multilinear-regression\n",
      "p_0 4080997.827514034\n",
      "p_1 382852.6893074923\n",
      "p_2 978188.2678790543\n",
      "p_3 197297.43765476544\n",
      "p_4 -616966.3754362684\n",
      "p_5 3003448.3374686185\n",
      "[25517.0067571]\n",
      "(30,) 30 (29,)\n"
     ]
    }
   ],
   "source": [
    "# regress growth as function of terms in\n",
    "# data matrix\n",
    "pp = np.linalg.lstsq(data_matrix[:14], growth[:14],rcond=None)\n",
    "print ('parameters for multilinear-regression'),\n",
    "for i,j in enumerate(pp[0]):\n",
    "    print (f'p_{i}',j)\n",
    "\n",
    "RMSE = np.sqrt(pp[1]/float(len(growth)))\n",
    "print(RMSE)\n",
    "\n",
    "print(year.shape,n,growth.shape)"
   ]
  },
  {
   "cell_type": "code",
   "execution_count": 150,
   "metadata": {},
   "outputs": [
    {
     "name": "stdout",
     "output_type": "stream",
     "text": [
      "\n",
      "\n",
      "year [1988. 1989. 1990. 1991. 1992. 1993. 1994. 1995. 1996. 1997. 1998. 1999.\n",
      " 2000. 2001. 2002. 2003. 2004. 2005. 2006. 2007. 2008. 2009. 2010. 2011.\n",
      " 2012. 2013. 2014. 2015. 2016.]\n",
      "\n",
      "\n",
      "data [  9000.  75000.  61244.  68756.  55000.  62833.  95232.  65646. 118748.\n",
      " 127541. 200000. 200000. 220000.      0.      0.      0.      0.      0.\n",
      "      0.      0.      0.      0.      0.      0.      0.      0.      0.\n",
      "      0.      0.]\n",
      "\n",
      "\n",
      "model [  64909.27301822  155614.43364936  227284.75829929  364688.80023819\n",
      "  370724.42293099  453523.12275953  583555.4531883   642491.552534\n",
      "  801795.03580854  946852.12563298 1095028.95738297 1408937.50866073\n",
      " 1541491.82223873 1959820.21133217]\n"
     ]
    },
    {
     "data": {
      "image/png": "[encoded data removed]",
      "text/plain": [
       "<Figure size 720x504 with 1 Axes>"
      ]
     },
     "metadata": {
      "needs_background": "light"
     },
     "output_type": "display_data"
    }
   ],
   "source": [
    "plt.figure(figsize=(10,7))\n",
    "plt.title('RMSE = %.2f'%RMSE)\n",
    "fwd = np.sum(pp[0]*data_matrix, axis=1)\n",
    "\n",
    "plt.plot(year[1:-1], growth[:-1],'ro',label='data')\n",
    "plt.plot(year[1:-1], fwd,'k+',label='model')\n",
    "plt.xlabel('year')\n",
    "plt.ylabel('urban growth')\n",
    "plt.legend(loc='best')\n",
    "\n",
    "print ('\\n\\nyear',dyear)\n",
    "print ('\\n\\ndata',growth)\n",
    "print ('\\n\\nmodel',fwd[14:])"
   ]
  },
  {
   "cell_type": "markdown",
   "metadata": {},
   "source": [
    "The material above provides all of the computer code you would need to apply the model, though you may wish to code it yourself in R. \n",
    "\n",
    "You **must** put in your own data from the classification result however (and this information must be traceable from your `Results`).\n",
    "\n",
    "You should make some attempt to assess the accuracy of any model that you build. This is perhaps most readily achieved by some form of cross-validation (leave one sample out and test how well it is modelled).\n",
    "\n",
    "You must explain and reference the models that you use (in a `Theory` section of simply a `Models` section) and claerly and traceably present all results (in `Model Results` section/sub-section). You must explain the approach taken for your accuracy assessment and present the results.\n",
    "\n",
    "A discussion of the results (from the classification and modelling) must be in a `Discussion` section of the report. You should make sure to discuss the uncertainty in the classification(s) and the modelling. Comment on what the expected 'reliability' of such a model might be in this context.\n",
    "\n",
    "A sufficient (i.e. pass) mark for the relevant section will be awarded if you correctly (assuming the classification results you have obtained are 'true') complete the model calibration (using the code above or excel or any other tool you are familiar with, provided you show your working), show all relevant results and properly plot the modelling results (as above). You will need to include more than a token effort at uncertainty estimation.\n",
    "\n",
    "### Summary\n",
    "\n",
    "* Using the data derived above, calibrate a model that describes urban land use change as a function of a set of socioeconomic factors, following the approach of Seto et al. (2002, 2003) **(of primary importance)**\n",
    "\n",
    "![](images/comp.png)\n",
    "\n",
    "* Test the model to assess uncertainty **(of secondary importance)**\n",
    "\n"
   ]
  }
 ],
 "metadata": {
  "kernelspec": {
   "display_name": "Python 3",
   "language": "python",
   "name": "python3"
  },
  "language_info": {
   "codemirror_mode": {
    "name": "ipython",
    "version": 3
   },
   "file_extension": ".py",
   "mimetype": "text/x-python",
   "name": "python",
   "nbconvert_exporter": "python",
   "pygments_lexer": "ipython3",
   "version": "3.6.6"
  },
  "toc": {
   "base_numbering": 1,
   "nav_menu": {},
   "number_sections": false,
   "sideBar": false,
   "skip_h1_title": false,
   "title_cell": "Table of Contents",
   "title_sidebar": "Contents",
   "toc_cell": false,
   "toc_position": {},
   "toc_section_display": false,
   "toc_window_display": false
  }
 },
 "nbformat": 4,
 "nbformat_minor": 1
}
